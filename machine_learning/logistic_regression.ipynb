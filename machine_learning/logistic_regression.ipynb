{
 "cells": [
  {
   "cell_type": "code",
   "execution_count": 2,
   "metadata": {},
   "outputs": [],
   "source": [
    "import numpy as np\n",
    "from sklearn.datasets import load_iris\n",
    "import matplotlib.pyplot as plt\n",
    "%matplotlib inline"
   ]
  },
  {
   "cell_type": "code",
   "execution_count": 3,
   "metadata": {},
   "outputs": [
    {
     "data": {
      "image/png": "[encoded data removed]",
      "text/plain": [
       "<matplotlib.figure.Figure at 0xf4385950>"
      ]
     },
     "metadata": {},
     "output_type": "display_data"
    }
   ],
   "source": [
    "iris = load_iris()\n",
    "data = iris.data\n",
    "target = iris.target\n",
    "X = data[:100, [0, 1, 2]]\n",
    "y = target[:100]\n",
    "label = np.array(y)\n",
    "index_0 = np.where(label==0)\n",
    "plt.scatter(X[index_0, 0], X[index_0, 1], label='0')\n",
    "index_1 = np.where(label==1)\n",
    "plt.scatter(X[index_1, 0], X[index_1, 1], label='1')\n",
    "plt.xlim(0, 8)\n",
    "plt.ylim(0, 7)\n",
    "plt.legend()\n",
    "plt.show()\n"
   ]
  },
  {
   "cell_type": "markdown",
   "metadata": {},
   "source": [
    "# 逻辑回归模型的类"
   ]
  },
  {
   "cell_type": "code",
   "execution_count": 4,
   "metadata": {},
   "outputs": [],
   "source": [
    "class Logistic(object):\n",
    "    def __init__(self):\n",
    "        self.W = None\n",
    "    \n",
    "    def train(self, X, y, learn_rate=0.001, iter_num=10200):\n",
    "        train_num, train_feature = X.shape\n",
    "        self.W = 0.001*np.ones((train_feature, 1))\n",
    "        loss = []\n",
    "        \n",
    "        for i in range(iter_num):\n",
    "            error, dW = self.compute_loss(X, y)\n",
    "            self.W += -learn_rate*dW\n",
    "            loss.append(error)\n",
    "            if i % 500==0:\n",
    "                print('i:%d error: %f' %(i, error))\n",
    "        return loss\n",
    "                    \n",
    "    \n",
    "    def compute_loss(self, X, y):\n",
    "        train_num = X.shape[0]\n",
    "        h = self.sigmoid(np.dot(X, self.W))\n",
    "        loss = -np.sum((y*np.log(h) + (1-y)*np.log((1-h))))\n",
    "        loss = loss/train_num\n",
    "        dW = X.T.dot((h-y)) / train_num\n",
    "        \n",
    "        return loss, dW\n",
    "        \n",
    "    def sigmoid(self, X):\n",
    "        return 1.0 / (1+np.exp(-X))\n",
    "    \n",
    "    def predict(self, X):\n",
    "        h = self.sigmoid(np.dot(X, self.W))\n",
    "        pre = np.where(h>=0.5, 1, 0)\n",
    "        return pre"
   ]
  },
  {
   "cell_type": "markdown",
   "metadata": {},
   "source": [
    "# 可视化跟踪loss函数"
   ]
  },
  {
   "cell_type": "code",
   "execution_count": 8,
   "metadata": {
    "scrolled": true
   },
   "outputs": [],
   "source": [
    "X = data[:100, [0, 1, 2]]\n",
    "y = target[:100].reshape((-1, 1))\n",
    "clf = Logistic()\n",
    "#loss = clf.train(X, y)\n",
    "#plt.plot(loss)"
   ]
  },
  {
   "cell_type": "code",
   "execution_count": 9,
   "metadata": {},
   "outputs": [
    {
     "data": {
      "text/plain": [
       "(100, 1)"
      ]
     },
     "execution_count": 9,
     "metadata": {},
     "output_type": "execute_result"
    }
   ],
   "source": [
    "y.shape"
   ]
  },
  {
   "cell_type": "code",
   "execution_count": 6,
   "metadata": {},
   "outputs": [
    {
     "data": {
      "text/plain": [
       "array([[-0.26997788],\n",
       "       [-1.10635923],\n",
       "       [ 1.76331413]])"
      ]
     },
     "execution_count": 6,
     "metadata": {},
     "output_type": "execute_result"
    }
   ],
   "source": [
    "clf.W"
   ]
  },
  {
   "cell_type": "code",
   "execution_count": 7,
   "metadata": {},
   "outputs": [
    {
     "data": {
      "text/plain": [
       "array([[0],\n",
       "       [0],\n",
       "       [1]])"
      ]
     },
     "execution_count": 7,
     "metadata": {},
     "output_type": "execute_result"
    }
   ],
   "source": [
    "clf.predict(X[0, 0])"
   ]
  },
  {
   "cell_type": "markdown",
   "metadata": {},
   "source": [
    "# 可视化决策边界"
   ]
  },
  {
   "cell_type": "code",
   "execution_count": 8,
   "metadata": {},
   "outputs": [
    {
     "data": {
      "text/plain": [
       "<matplotlib.legend.Legend at 0xef420c90>"
      ]
     },
     "execution_count": 8,
     "metadata": {},
     "output_type": "execute_result"
    },
    {
     "data": {
      "image/png": "[encoded data removed]",
      "text/plain": [
       "<matplotlib.figure.Figure at 0xef4206f0>"
      ]
     },
     "metadata": {},
     "output_type": "display_data"
    }
   ],
   "source": [
    "label = np.array(y)\n",
    "index_0 = np.where(label==0)\n",
    "plt.scatter(X[index_0, 0], X[index_0, 1], label='0')\n",
    "index_1 = np.where(label==1)\n",
    "plt.scatter(X[index_1, 0], X[index_1, 1], label='1')\n",
    "plt.xlim(0, 8)\n",
    "plt.ylim(0, 7)\n",
    "# 决策边界\n",
    "x1 = np.arange(3.0, 7.5, 0.1)\n",
    "y1 = (-clf.W[0]-clf.W[1]*x1)/clf.W[2]\n",
    "plt.plot(x1, y1)\n",
    "plt.legend()"
   ]
  },
  {
   "cell_type": "code",
   "execution_count": 9,
   "metadata": {},
   "outputs": [
    {
     "data": {
      "text/plain": [
       "array([[-0.26997788],\n",
       "       [-1.10635923],\n",
       "       [ 1.76331413]])"
      ]
     },
     "execution_count": 9,
     "metadata": {},
     "output_type": "execute_result"
    }
   ],
   "source": [
    "clf.W"
   ]
  },
  {
   "cell_type": "markdown",
   "metadata": {},
   "source": [
    "# 逻辑回归梯度上升算法"
   ]
  },
  {
   "cell_type": "code",
   "execution_count": 10,
   "metadata": {},
   "outputs": [],
   "source": [
    "import numpy as np\n",
    "\n",
    "\n",
    "def loadDataSet():\n",
    "    from sklearn.datasets import load_iris\n",
    "    iris = load_iris()\n",
    "    data = iris.data\n",
    "    label = iris.target\n",
    "    return data[:100, [0,1, 2]], label[:100].reshape((-1, 1))\n",
    "\n",
    " \n",
    "def standard(arr):\n",
    "    '''\n",
    "    数值标准化\n",
    "    '''\n",
    "    return (arr-arr.min())/(arr.max()-arr.min())\n",
    "\n",
    "\n",
    "def sigmoid(inX):\n",
    "    return 1.0/(1 + np.exp(-inX))\n",
    "\n",
    "def predict(inMat, weights):\n",
    "    inMatrix = np.mat(inMat)\n",
    "    h = sigmoid((inMatrix*weights)/2500)\n",
    "    pre = np.where(h>=0.5, 1, 0)\n",
    "    return h\n",
    "\n",
    "def gradientAscent(inMat, labelMat):\n",
    "    inMatrix = np.mat(inMat)\n",
    "    classLabels = np.mat(labelMat)\n",
    "    m, n = inMatrix.shape\n",
    "    alpha = 0.001\n",
    "    iter_num = 1000\n",
    "    loss = []\n",
    "    weights = np.ones((n, 1))\n",
    "    for i in range(iter_num):\n",
    "        h = sigmoid(inMatrix * weights)\n",
    "        error = classLabels - h\n",
    "        loss.append(error)\n",
    "        weights = weights + alpha*inMatrix.T*error\n",
    "    return weights, loss\n",
    "\n",
    "def stocGradientAscent(inMat, labelMat):\n",
    "    '''\n",
    "    随机梯度上升，当数据量比较大时，\n",
    "    每次迭代都选择全量数据进行计算，\n",
    "    计算量会非常大。\n",
    "    所以采用每次迭代中一次,\n",
    "    只选择其中的一行数据进行更新权重。\n",
    "    '''\n",
    "    inMatrix = np.mat(inMat)\n",
    "    classLabels = np.mat(labelMat)\n",
    "    m, n = inMatrix.shape\n",
    "    alpha = 0.001\n",
    "    iter_num = 1000\n",
    "    loss = []\n",
    "    weights = np.ones((n, 1))\n",
    "    for k in range(iter_num):\n",
    "        #  遍历计算每行\n",
    "        for i in range(m):\n",
    "            h = sigmoid(sum(inMatrix[i] * weights))\n",
    "            error = classLabels[i] - h\n",
    "            loss.append(error)\n",
    "            weights = weights + alpha*inMatrix[i].T*error\n",
    "    return weights, loss\n",
    "\n",
    "def stocGradientAscent_1(inMat, labelMat):\n",
    "    '''\n",
    "    改进版随机梯度上升，\n",
    "    在每次迭代中随机选择样本来更新权重，\n",
    "    并且随迭代次数增加，权重变化越小。\n",
    "    '''\n",
    "    inMatrix = np.mat(inMat)\n",
    "    classLabels = np.mat(labelMat)\n",
    "    m, n = inMatrix.shape\n",
    "    iter_num = 10200\n",
    "    loss = []\n",
    "    weights = np.ones((n, 1))\n",
    "    for k in range(iter_num):\n",
    "        dataIndex = [i for i in range(m)]\n",
    "        for i in range(m):\n",
    "            # 随迭代次数增加，权重变化越小\n",
    "            alpha = 4 / (1+k+i) + 0.0001\n",
    "            # 随机抽样\n",
    "            randIndex = int(np.random.uniform(0, len(dataIndex)))\n",
    "            h = sigmoid(sum(inMatrix[randIndex] * weights))\n",
    "            error = classLabels[randIndex] - h\n",
    "            loss.append(error)\n",
    "            weights = weights + alpha*inMatrix[randIndex].T*error\n",
    "            # 取出已经抽取的样本\n",
    "            del dataIndex[randIndex]\n",
    "        return weights, loss\n",
    "\n",
    "def plotBestFit(weights):  #画出最终分类的图\n",
    "    import matplotlib.pyplot as plt\n",
    "    dataMat,labelMat=loadDataSet()\n",
    "    dataArr = np.array(dataMat)\n",
    "    n = np.shape(dataArr)[0]\n",
    "    xcord1 = []; ycord1 = []\n",
    "    xcord2 = []; ycord2 = []\n",
    "    for i in range(n):\n",
    "        if int(labelMat[i])== 1:\n",
    "            xcord1.append(dataArr[i,0])\n",
    "            ycord1.append(dataArr[i,1])\n",
    "        else:\n",
    "            xcord2.append(dataArr[i,0])\n",
    "            ycord2.append(dataArr[i,1])\n",
    "    fig = plt.figure()\n",
    "    ax = fig.add_subplot(111)\n",
    "    ax.scatter(xcord1, ycord1, s=30, c='red', marker='s', label='1')\n",
    "    ax.scatter(xcord2, ycord2, s=30, c='green', label='0')\n",
    "    x = np.arange(3.0, 7.0, 0.1)\n",
    "    y = (-weights[0]-weights[1]*x)/weights[2]\n",
    "    ax.plot(x, y)\n",
    "    plt.xlabel('X1')\n",
    "    plt.ylabel('X2')\n",
    "    plt.xlim(0, 8)\n",
    "    plt.ylim(0, 7)\n",
    "    plt.legend()\n",
    "    plt.show()\n",
    "\n",
    "def main():\n",
    "    dataMat, labelMat = loadDataSet()\n",
    "    weights, loss=gradientAscent(dataMat, labelMat)\n",
    "    plotBestFit(np.array(weights))\n",
    "\n",
    "#if __name__=='__main__':\n",
    "   # main()"
   ]
  },
  {
   "cell_type": "code",
   "execution_count": 15,
   "metadata": {},
   "outputs": [],
   "source": [
    "# w, l = gradientAscent(X, y)\n",
    "w, l = gradientAscent(X, y)"
   ]
  },
  {
   "cell_type": "code",
   "execution_count": 16,
   "metadata": {},
   "outputs": [
    {
     "data": {
      "text/plain": [
       "matrix([[-0.79243949],\n",
       "        [-1.85196254],\n",
       "        [ 3.61390507]])"
      ]
     },
     "execution_count": 16,
     "metadata": {},
     "output_type": "execute_result"
    }
   ],
   "source": [
    "w"
   ]
  },
  {
   "cell_type": "code",
   "execution_count": 18,
   "metadata": {},
   "outputs": [
    {
     "data": {
      "text/plain": [
       "matrix([[ 0.50032463]])"
      ]
     },
     "execution_count": 18,
     "metadata": {},
     "output_type": "execute_result"
    }
   ],
   "source": [
    "predict(np.mat([4.57, 8,6]), w)"
   ]
  },
  {
   "cell_type": "code",
   "execution_count": 19,
   "metadata": {},
   "outputs": [
    {
     "data": {
      "image/png": "[encoded data removed]",
      "text/plain": [
       "<matplotlib.figure.Figure at 0xef3eb850>"
      ]
     },
     "metadata": {},
     "output_type": "display_data"
    }
   ],
   "source": [
    "plotBestFit(np.array(w))"
   ]
  },
  {
   "cell_type": "code",
   "execution_count": 20,
   "metadata": {},
   "outputs": [],
   "source": [
    "X, y = loadDataSet()\n",
    "w, l = gradientAscent(X, y)\n",
    "pre = predict(X, w)"
   ]
  },
  {
   "cell_type": "markdown",
   "metadata": {},
   "source": [
    "# 图像识别"
   ]
  },
  {
   "cell_type": "code",
   "execution_count": 21,
   "metadata": {},
   "outputs": [],
   "source": [
    "from PIL import Image\n",
    "import numpy as np\n",
    "import os\n",
    "trainfold1 = '/sdcard/1/img_test/1'\n",
    "trainfold2 = '/sdcard/1/img_test/1'"
   ]
  },
  {
   "cell_type": "code",
   "execution_count": 22,
   "metadata": {},
   "outputs": [],
   "source": [
    "def im2arr(imgfile):\n",
    "    im = Image.open(imgfile)\n",
    "    im = im.resize((50, 50), Image.ANTIALIAS).convert('L')\n",
    "    return np.array(im).astype('float')"
   ]
  },
  {
   "cell_type": "code",
   "execution_count": 28,
   "metadata": {},
   "outputs": [],
   "source": [
    "def pickle(arr):\n",
    "    li = []\n",
    "    w, h  = arr.shape\n",
    "    for i in range(w):\n",
    "        for j in range(h):\n",
    "            li.append(arr[i, j])\n",
    "    return li\n",
    "        \n",
    "\n",
    "\n",
    "def standard(arr):\n",
    "    temp = (arr - arr.min())/(arr.max() - arr.min())\n",
    "    return temp\n",
    "\n",
    "def grad(inMat, labelMat):\n",
    "    inMatrix = np.mat(inMat)   \n",
    "    classLabels = np.mat(labelMat)\n",
    "    m, n = inMatrix.shape\n",
    "    weights = np.ones((n, 1))\n",
    "    alpha = 0.0001\n",
    "    iter_num = 12000\n",
    "    loss = []\n",
    "    for i in range(iter_num):\n",
    "        h = sigmoid((inMatrix*weights) / n)\n",
    "        error = classLabels - h\n",
    "        loss.append(error)\n",
    "        if i%500 == 0:\n",
    "            print(error)\n",
    "        weights = weights + alpha*inMatrix.T*error\n",
    "    return weights, loss"
   ]
  },
  {
   "cell_type": "markdown",
   "metadata": {},
   "source": [
    "# 读取本地图片"
   ]
  },
  {
   "cell_type": "code",
   "execution_count": 24,
   "metadata": {
    "scrolled": true
   },
   "outputs": [
    {
     "data": {
      "text/plain": [
       "58"
      ]
     },
     "execution_count": 24,
     "metadata": {},
     "output_type": "execute_result"
    }
   ],
   "source": [
    "X = []\n",
    "y_1 = 0\n",
    "y_2 = 0\n",
    "for i in os.listdir(trainfold1):\n",
    "    arr = im2arr(os.path.join(trainfold1, i))\n",
    "    # 零值规范化\n",
    "    arr = standard(arr)\n",
    "    # 序列化\n",
    "    li = pickle(arr)\n",
    "    X.append(li)\n",
    "    y_1 += 1\n",
    "for j in os.listdir(trainfold2):\n",
    "    arr2 = im2arr(os.path.join(trainfold2, j))\n",
    "    arr2 = standard=(arr2)\n",
    "    li2 = pickle(arr2)\n",
    "    X.append(li2)\n",
    "    y_2 += 1\n",
    "    \n",
    "# X,为训练数据，y为训练数据对应的标签\n",
    "len(X)"
   ]
  },
  {
   "cell_type": "code",
   "execution_count": 25,
   "metadata": {},
   "outputs": [
    {
     "data": {
      "text/plain": [
       "58"
      ]
     },
     "execution_count": 25,
     "metadata": {},
     "output_type": "execute_result"
    }
   ],
   "source": [
    "y = []\n",
    "for i in range(y_1):\n",
    "    y.append(0)\n",
    "for j in range(y_2):\n",
    "    y.append(1)\n",
    "len(y)"
   ]
  },
  {
   "cell_type": "code",
   "execution_count": 26,
   "metadata": {
    "scrolled": false
   },
   "outputs": [
    {
     "data": {
      "text/plain": [
       "2500"
      ]
     },
     "execution_count": 26,
     "metadata": {},
     "output_type": "execute_result"
    }
   ],
   "source": [
    "# 规整后转换为数组\n",
    "X = np.array(X)\n",
    "y = np.array(y).reshape((-1, 1))\n",
    "len(li)"
   ]
  },
  {
   "cell_type": "markdown",
   "metadata": {},
   "source": [
    "# 梯度上升算法进行训练"
   ]
  },
  {
   "cell_type": "code",
   "execution_count": 35,
   "metadata": {
    "scrolled": true
   },
   "outputs": [],
   "source": [
    "# w, l= grad(X, y)"
   ]
  },
  {
   "cell_type": "code",
   "execution_count": 29,
   "metadata": {},
   "outputs": [],
   "source": [
    "np.save('weights', w)\n",
    "np.save('loss', l)"
   ]
  },
  {
   "cell_type": "code",
   "execution_count": 30,
   "metadata": {},
   "outputs": [
    {
     "data": {
      "text/plain": [
       "matrix([[ 0.18207882],\n",
       "        [ 0.27539737],\n",
       "        [ 0.03726741],\n",
       "        ..., \n",
       "        [ 0.66757549],\n",
       "        [ 0.61372918],\n",
       "        [ 0.55597661]])"
      ]
     },
     "execution_count": 30,
     "metadata": {},
     "output_type": "execute_result"
    }
   ],
   "source": [
    "w"
   ]
  },
  {
   "cell_type": "markdown",
   "metadata": {},
   "source": [
    "# 误差损失可视化"
   ]
  },
  {
   "cell_type": "code",
   "execution_count": 32,
   "metadata": {},
   "outputs": [
    {
     "data": {
      "text/plain": [
       "[<matplotlib.lines.Line2D at 0xea39bbf0>]"
      ]
     },
     "execution_count": 32,
     "metadata": {},
     "output_type": "execute_result"
    },
    {
     "data": {
      "image/png": "[encoded data removed]",
      "text/plain": [
       "<matplotlib.figure.Figure at 0xef07d1f0>"
      ]
     },
     "metadata": {},
     "output_type": "display_data"
    }
   ],
   "source": [
    "plt.plot(l[8])"
   ]
  },
  {
   "cell_type": "code",
   "execution_count": 58,
   "metadata": {},
   "outputs": [
    {
     "data": {
      "text/plain": [
       "[<matplotlib.lines.Line2D at 0xe8dc50f0>]"
      ]
     },
     "execution_count": 58,
     "metadata": {},
     "output_type": "execute_result"
    },
    {
     "data": {
      "image/png": "[encoded data removed]",
      "text/plain": [
       "<matplotlib.figure.Figure at 0xe8ebf4f0>"
      ]
     },
     "metadata": {},
     "output_type": "display_data"
    }
   ],
   "source": [
    "l[:][1]\n",
    "plt.plot(l[8][:])"
   ]
  },
  {
   "cell_type": "markdown",
   "metadata": {},
   "source": [
    "# 图像预测"
   ]
  },
  {
   "cell_type": "code",
   "execution_count": 33,
   "metadata": {
    "scrolled": true
   },
   "outputs": [
    {
     "name": "stdout",
     "output_type": "stream",
     "text": [
      "[[ 0.50535318]]\n",
      "[[ 0.50512775]]\n",
      "[[ 0.5058025]]\n",
      "[[ 0.50531026]]\n",
      "[[ 0.50564424]]\n",
      "[[ 0.50491016]]\n",
      "[[ 0.50553931]]\n",
      "[[ 0.50499517]]\n",
      "[[ 0.50619229]]\n",
      "[[ 0.50501618]]\n",
      "[[ 0.50572701]]\n",
      "[[ 0.50421118]]\n",
      "[[ 0.50392154]]\n",
      "[[ 0.50637317]]\n",
      "[[ 0.50655195]]\n",
      "[[ 0.50538553]]\n",
      "[[ 0.50614115]]\n",
      "[[ 0.5060005]]\n",
      "[[ 0.50351074]]\n",
      "[[ 0.50606462]]\n",
      "[[ 0.5060115]]\n",
      "[[ 0.50567907]]\n",
      "[[ 0.50573964]]\n",
      "[[ 0.50531522]]\n",
      "[[ 0.50545781]]\n",
      "[[ 0.50566335]]\n",
      "[[ 0.50580844]]\n",
      "[[ 0.50541184]]\n",
      "[[ 0.5055762]]\n",
      "[[ 0.99787904]]\n",
      "[[ 0.99775817]]\n",
      "[[ 0.99855359]]\n",
      "[[ 0.99801315]]\n",
      "[[ 0.99839903]]\n",
      "[[ 0.99757761]]\n",
      "[[ 0.99789082]]\n",
      "[[ 0.99718736]]\n",
      "[[ 0.99844757]]\n",
      "[[ 0.99763882]]\n",
      "[[ 0.99843606]]\n",
      "[[ 0.99774061]]\n",
      "[[ 0.99817316]]\n",
      "[[ 0.99935024]]\n",
      "[[ 0.99875001]]\n",
      "[[ 0.9980506]]\n",
      "[[ 0.99791575]]\n",
      "[[ 0.99849974]]\n",
      "[[ 0.99782922]]\n",
      "[[ 0.99794663]]\n",
      "[[ 0.99783253]]\n",
      "[[ 0.99836949]]\n",
      "[[ 0.99820466]]\n",
      "[[ 0.99755204]]\n",
      "[[ 0.99750382]]\n",
      "[[ 0.99865541]]\n",
      "[[ 0.99746846]]\n",
      "[[ 0.99788685]]\n",
      "[[ 0.99837741]]\n"
     ]
    }
   ],
   "source": [
    "for i in range(len(X)):\n",
    "    print(predict(X[i], w))"
   ]
  },
  {
   "cell_type": "code",
   "execution_count": 34,
   "metadata": {
    "scrolled": true
   },
   "outputs": [
    {
     "data": {
      "text/plain": [
       "matrix([[ 0.99836949]])"
      ]
     },
     "execution_count": 34,
     "metadata": {},
     "output_type": "execute_result"
    }
   ],
   "source": [
    "predict(X[50], w)"
   ]
  },
  {
   "cell_type": "code",
   "execution_count": null,
   "metadata": {},
   "outputs": [],
   "source": []
  },
  {
   "cell_type": "markdown",
   "metadata": {},
   "source": [
    "# 保存权重系数"
   ]
  },
  {
   "cell_type": "code",
   "execution_count": 782,
   "metadata": {},
   "outputs": [],
   "source": [
    "np.save('weights')"
   ]
  },
  {
   "cell_type": "markdown",
   "metadata": {},
   "source": [
    "# 获取权重"
   ]
  },
  {
   "cell_type": "code",
   "execution_count": null,
   "metadata": {},
   "outputs": [],
   "source": []
  },
  {
   "cell_type": "code",
   "execution_count": 898,
   "metadata": {},
   "outputs": [
    {
     "name": "stdout",
     "output_type": "stream",
     "text": [
      "IMG20181005211108.jpg [[ 0.50553931]]\n",
      "IMG20181005211111.jpg [[ 0.50499517]]\n",
      "IMG20181006092550.jpg [[ 0.50619229]]\n",
      "IMG20181006093758.jpg [[ 0.50501618]]\n",
      "IMG20181006093800.jpg [[ 0.50572701]]\n",
      "IMG20181007193603.jpg [[ 0.50421118]]\n",
      "IMG20181007193606.jpg [[ 0.50392154]]\n",
      "IMG20181011132250.jpg [[ 0.50637317]]\n",
      "IMG20181011151126.jpg [[ 0.50545781]]\n",
      "IMG20181011151137.jpg [[ 0.50566335]]\n",
      "IMG20181012165413.jpg [[ 0.5149156]]\n",
      "IMG20181011193146.jpg [[ 0.51441251]]\n",
      "IMG20181011201447.jpg [[ 0.51410698]]\n",
      "IMG20181011201512.jpg [[ 0.51429784]]\n",
      "Screenshot_2018-10-09-21-32-08-83.png [[ 0.51568003]]\n",
      "Screenshot_2018-10-09-21-37-58-88.png [[ 0.51646055]]\n",
      "text.png [[ 0.51603932]]\n",
      "Screenshot_2018-10-09-03-06-19-19.png [[ 0.51700872]]\n"
     ]
    }
   ],
   "source": [
    "import numpy as np\n",
    "\n",
    "fold = '/sdcard/1/img_target'\n",
    "for i in os.listdir(fold):\n",
    "    im_ = Image.open(os.path.join(fold, i))\n",
    "    im_ = im_.resize((50, 50), Image.ANTIALIAS).convert('L')\n",
    "    arr_ = np.array(im_).astype('float')\n",
    "    arr_ = standard(arr_)\n",
    "    li_ = pickle(arr_)\n",
    "    X_ = np.array(li_)\n",
    "    result = predict(X_, w)\n",
    "    print(i, result)\n",
    "\n",
    "\n",
    "\n",
    "    "
   ]
  },
  {
   "cell_type": "code",
   "execution_count": 890,
   "metadata": {},
   "outputs": [
    {
     "data": {
      "text/plain": [
       "matrix([[ 0.18207882],\n",
       "        [ 0.27539737],\n",
       "        [ 0.03726741],\n",
       "        ..., \n",
       "        [ 0.66757549],\n",
       "        [ 0.61372918],\n",
       "        [ 0.55597661]])"
      ]
     },
     "execution_count": 890,
     "metadata": {},
     "output_type": "execute_result"
    }
   ],
   "source": [
    "w"
   ]
  },
  {
   "cell_type": "code",
   "execution_count": 891,
   "metadata": {},
   "outputs": [
    {
     "data": {
      "text/plain": [
       "2500"
      ]
     },
     "execution_count": 891,
     "metadata": {},
     "output_type": "execute_result"
    }
   ],
   "source": [
    "len(w)"
   ]
  },
  {
   "cell_type": "code",
   "execution_count": null,
   "metadata": {},
   "outputs": [],
   "source": []
  }
 ],
 "metadata": {
  "kernelspec": {
   "display_name": "Python 3",
   "language": "python",
   "name": "python3"
  },
  "language_info": {
   "codemirror_mode": {
    "name": "ipython",
    "version": 3
   },
   "file_extension": ".py",
   "mimetype": "text/x-python",
   "name": "python",
   "nbconvert_exporter": "python",
   "pygments_lexer": "ipython3",
   "version": "3.6.2"
  }
 },
 "nbformat": 4,
 "nbformat_minor": 2
}
