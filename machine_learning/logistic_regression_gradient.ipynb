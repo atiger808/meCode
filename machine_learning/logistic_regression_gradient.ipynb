{
 "cells": [
  {
   "cell_type": "code",
   "execution_count": 1,
   "metadata": {},
   "outputs": [],
   "source": [
    "import numpy as np\n",
    "\n",
    "from sklearn.datasets import load_iris\n",
    "\n",
    "import matplotlib.pyplot as plt\n",
    "\n",
    "%matplotlib inline"
   ]
  },
  {
   "cell_type": "code",
   "execution_count": 221,
   "metadata": {},
   "outputs": [
    {
     "data": {
      "image/png": "[encoded data removed]",
      "text/plain": [
       "<matplotlib.figure.Figure at 0xeea553f0>"
      ]
     },
     "metadata": {},
     "output_type": "display_data"
    }
   ],
   "source": [
    "iris = load_iris()\n",
    "\n",
    "data = iris.data\n",
    "\n",
    "target = iris.target\n",
    "\n",
    "X = data[:100, [0, 1, 2]]\n",
    "\n",
    "y = target[:100]\n",
    "\n",
    "label = np.array(y)\n",
    "\n",
    "index_0 = np.where(label==0)\n",
    "\n",
    "plt.scatter(X[index_0, 0], X[index_0, 1], label='0')\n",
    "\n",
    "index_1 = np.where(label==1)\n",
    "\n",
    "plt.scatter(X[index_1, 0], X[index_1, 1], label='1')\n",
    "\n",
    "plt.xlim(0, 8)\n",
    "\n",
    "plt.ylim(0, 7)\n",
    "\n",
    "plt.legend()\n",
    "\n",
    "plt.show()\n",
    "\n"
   ]
  },
  {
   "cell_type": "code",
   "execution_count": 148,
   "metadata": {},
   "outputs": [],
   "source": [
    "class Logistic(object):\n",
    "\n",
    "    def __init__(self):\n",
    "\n",
    "        self.W = None\n",
    "\n",
    "    \n",
    "\n",
    "    def train(self, X, y, learn_rate=0.001, iter_num=10200):\n",
    "\n",
    "        train_num, train_feature = X.shape\n",
    "\n",
    "        self.W = 0.001*np.ones((train_feature, 1))\n",
    "\n",
    "        loss = []\n",
    "\n",
    "        \n",
    "\n",
    "        for i in range(iter_num):\n",
    "\n",
    "            error, dW = self.compute_loss(X, y)\n",
    "\n",
    "            self.W += -learn_rate*dW\n",
    "\n",
    "            loss.append(error)\n",
    "\n",
    "            if i % 500==0:\n",
    "\n",
    "                print('i:%d error: %f' %(i, error))\n",
    "\n",
    "        return loss\n",
    "\n",
    "                    \n",
    "\n",
    "    \n",
    "\n",
    "    def compute_loss(self, X, y):\n",
    "\n",
    "        train_num = X.shape[0]\n",
    "\n",
    "        h = self.sigmoid(np.dot(X, self.W))\n",
    "\n",
    "        loss = -np.sum((y*np.log(h) + (1-y)*np.log((1-h))))\n",
    "\n",
    "        loss = loss/train_num\n",
    "\n",
    "        dW = X.T.dot((h-y)) / train_num\n",
    "\n",
    "        \n",
    "\n",
    "        return loss, dW\n",
    "\n",
    "        \n",
    "\n",
    "    def sigmoid(self, X):\n",
    "\n",
    "        return 1.0 / (1+np.exp(-X))\n",
    "\n",
    "    \n",
    "\n",
    "    def predict(self, X):\n",
    "\n",
    "        h = self.sigmoid(np.dot(X, self.W))\n",
    "\n",
    "        pre = np.where(h>=0.5, 1, 0)\n",
    "\n",
    "        return pre"
   ]
  },
  {
   "cell_type": "code",
   "execution_count": 230,
   "metadata": {},
   "outputs": [],
   "source": [
    "\n",
    "def sigmoid(x):\n",
    "    return 1.0 / (1 + np.exp(-x))\n",
    "\n",
    "def input_net(x, theta):\n",
    "    return np.dot(x, theta)\n",
    "\n",
    "# 概率函数\n",
    "def probability(x, theta):\n",
    "    return sigmoid(input_net(x, theta))\n",
    "\n",
    "# 损失函数\n",
    "def cost_function(x, y, theta):\n",
    "    m = x.shape[0]\n",
    "    h = probability(x, theta)\n",
    "    loss = -np.sum(y*np.log(h) + (1-y)*np.log(1 - h))\n",
    "    loss = loss/m\n",
    "    #dW = x.T.dot(h-y)\n",
    "    #dW = dW/m\n",
    "    return loss\n",
    "\n",
    "# 梯度函数\n",
    "def gradient(x, y, theta):\n",
    "    m = x.shape[0]\n",
    "    h = probability(x, theta)\n",
    "    # 预测概率减去真实概率\n",
    "    dW = x.T.dot(h-y)\n",
    "    dW = dW/m\n",
    "    return dW\n",
    "\n",
    "#梯度下降 训练\n",
    "def fit(x, y, alpha, iter_num):\n",
    "    loss = []\n",
    "    m, n = x.shape\n",
    "    theta = np.ones((n, 1))\n",
    "    for i in range(iter_num):\n",
    "        error = cost_function(x, y, theta)\n",
    "        loss.append(error)\n",
    "        dW = gradient(x, y, theta)\n",
    "        # 更新权重参数\n",
    "        theta = theta + (-alpha * dW)\n",
    "    return theta, loss\n",
    "\n",
    "# 预测\n",
    "def predict_(x, theta):\n",
    "    return probability(x, theta)\n",
    "\n",
    "# 模型准确性\n",
    "def accuracy(x, accual_classes, theta, probab_threshold=0.9):\n",
    "    predict_classes = (predict_(x, theta) >= probab_threshold).astype(int)\n",
    "    predict_classes = predict_classes.flatten()\n",
    "    accuracy = np.mean(predict_classes == accual_classes)\n",
    "    return accuracy * 100\n"
   ]
  },
  {
   "cell_type": "code",
   "execution_count": 212,
   "metadata": {
    "scrolled": true
   },
   "outputs": [
    {
     "data": {
      "text/plain": [
       "array([[-0.49420499],\n",
       "       [-0.57020689],\n",
       "       [ 1.6131343 ]])"
      ]
     },
     "execution_count": 212,
     "metadata": {},
     "output_type": "execute_result"
    }
   ],
   "source": [
    "\n",
    "m, n = X.shape\n",
    "yy = target[:100].reshape(-1, 1)\n",
    "theta = np.ones((n, 1))\n",
    "w, loss = fit(X, yy, 0.001, 6000)\n",
    "\n",
    "type(gradient(X, yy, theta))\n",
    "w"
   ]
  },
  {
   "cell_type": "markdown",
   "metadata": {},
   "source": [
    "# 决策边界"
   ]
  },
  {
   "cell_type": "code",
   "execution_count": 224,
   "metadata": {},
   "outputs": [
    {
     "data": {
      "text/plain": [
       "[<matplotlib.lines.Line2D at 0xee528f70>]"
      ]
     },
     "execution_count": 224,
     "metadata": {},
     "output_type": "execute_result"
    },
    {
     "data": {
      "image/png": "[encoded data removed]",
      "text/plain": [
       "<matplotlib.figure.Figure at 0xee86d230>"
      ]
     },
     "metadata": {},
     "output_type": "display_data"
    }
   ],
   "source": [
    "x_ = [np.min(X[: 1] - 5), np.max(X[: 2] + 5)]\n",
    "y_ = -(w[0] + w[1]*x_)/w[2]\n",
    "plt.scatter(X[index_0, 0], X[index_0, 2])\n",
    "plt.scatter(X[index_1, 0], X[index_1, 2])\n",
    "plt.plot(x_, y_)"
   ]
  },
  {
   "cell_type": "markdown",
   "metadata": {},
   "source": [
    "# 误差梯度"
   ]
  },
  {
   "cell_type": "code",
   "execution_count": 211,
   "metadata": {},
   "outputs": [
    {
     "data": {
      "text/plain": [
       "[<matplotlib.lines.Line2D at 0xef2bfcd0>]"
      ]
     },
     "execution_count": 211,
     "metadata": {},
     "output_type": "execute_result"
    },
    {
     "data": {
      "image/png": "[encoded data removed]",
      "text/plain": [
       "<matplotlib.figure.Figure at 0xef34a910>"
      ]
     },
     "metadata": {},
     "output_type": "display_data"
    }
   ],
   "source": [
    "plt.plot(loss)"
   ]
  },
  {
   "cell_type": "markdown",
   "metadata": {},
   "source": [
    "# 模型准确度"
   ]
  },
  {
   "cell_type": "code",
   "execution_count": 226,
   "metadata": {},
   "outputs": [
    {
     "data": {
      "text/plain": [
       "82.0"
      ]
     },
     "execution_count": 226,
     "metadata": {},
     "output_type": "execute_result"
    }
   ],
   "source": [
    "accuracy(X, y.flatten(), w)"
   ]
  },
  {
   "cell_type": "code",
   "execution_count": 228,
   "metadata": {},
   "outputs": [
    {
     "data": {
      "text/plain": [
       "[<matplotlib.lines.Line2D at 0xee3d2030>]"
      ]
     },
     "execution_count": 228,
     "metadata": {},
     "output_type": "execute_result"
    },
    {
     "data": {
      "image/png": "[encoded data removed]",
      "text/plain": [
       "<matplotlib.figure.Figure at 0xee7ac970>"
      ]
     },
     "metadata": {},
     "output_type": "display_data"
    }
   ],
   "source": [
    "plt.plot(loss)"
   ]
  },
  {
   "cell_type": "code",
   "execution_count": null,
   "metadata": {},
   "outputs": [],
   "source": []
  },
  {
   "cell_type": "code",
   "execution_count": null,
   "metadata": {},
   "outputs": [],
   "source": []
  }
 ],
 "metadata": {
  "kernelspec": {
   "display_name": "Python 3",
   "language": "python",
   "name": "python3"
  },
  "language_info": {
   "codemirror_mode": {
    "name": "ipython",
    "version": 3
   },
   "file_extension": ".py",
   "mimetype": "text/x-python",
   "name": "python",
   "nbconvert_exporter": "python",
   "pygments_lexer": "ipython3",
   "version": "3.6.2"
  }
 },
 "nbformat": 4,
 "nbformat_minor": 2
}
