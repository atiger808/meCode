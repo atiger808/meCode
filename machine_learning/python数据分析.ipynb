{
 "cells": [
  {
   "cell_type": "code",
   "execution_count": 120,
   "metadata": {},
   "outputs": [],
   "source": [
    "from math import exp, log, sqrt\n",
    "import re\n",
    "from datetime import date, time, datetime, timedelta\n",
    "from operator import itemgetter\n",
    "import sys\n",
    "import os\n",
    "import glob"
   ]
  },
  {
   "cell_type": "code",
   "execution_count": 75,
   "metadata": {},
   "outputs": [],
   "source": [
    "string = 'The quick brown fox jumps over the lazy dog'"
   ]
  },
  {
   "cell_type": "raw",
   "metadata": {},
   "source": [
    "'''\n",
    "创建一个名为pattern的正则表达式\n",
    "re.compile函数将文本形式的模式编译成为编译后的正则表达式\n",
    "re.I函数确保模式不区分大小写\n",
    "'''"
   ]
  },
  {
   "cell_type": "code",
   "execution_count": 7,
   "metadata": {},
   "outputs": [],
   "source": [
    "string_list = string.split()\n",
    "pattern = re.compile(r'The', re.I)"
   ]
  },
  {
   "cell_type": "raw",
   "metadata": {},
   "source": [
    "re.search搜寻函数"
   ]
  },
  {
   "cell_type": "code",
   "execution_count": 10,
   "metadata": {},
   "outputs": [
    {
     "name": "stdout",
     "output_type": "stream",
     "text": [
      "The\n",
      "the\n",
      "output:  2\n"
     ]
    }
   ],
   "source": [
    "count = 0\n",
    "for word in string_list:\n",
    "    if pattern.search(word):\n",
    "        print(pattern.search(word).group())\n",
    "        count += 1\n",
    "print('output: {0: d}'.format(count))"
   ]
  },
  {
   "cell_type": "raw",
   "metadata": {},
   "source": [
    "re.sub替换函数"
   ]
  },
  {
   "cell_type": "code",
   "execution_count": 11,
   "metadata": {},
   "outputs": [
    {
     "name": "stdout",
     "output_type": "stream",
     "text": [
      "Output #40: a quick brown fox jumps over a lazy dog\n"
     ]
    }
   ],
   "source": [
    "string_to_find = r'The'\n",
    "pattern2 = re.compile(string_to_find, re.I)\n",
    "print('Output #40: {:s}'.format(pattern.sub('a', string)))"
   ]
  },
  {
   "cell_type": "markdown",
   "metadata": {},
   "source": [
    "# 日期"
   ]
  },
  {
   "cell_type": "code",
   "execution_count": 24,
   "metadata": {},
   "outputs": [
    {
     "data": {
      "text/plain": [
       "datetime.date(2018, 10, 11)"
      ]
     },
     "execution_count": 24,
     "metadata": {},
     "output_type": "execute_result"
    }
   ],
   "source": [
    "today =  date.today()\n",
    "today"
   ]
  },
  {
   "cell_type": "code",
   "execution_count": 17,
   "metadata": {},
   "outputs": [
    {
     "data": {
      "text/plain": [
       "(2018, 10, 11)"
      ]
     },
     "execution_count": 17,
     "metadata": {},
     "output_type": "execute_result"
    }
   ],
   "source": [
    "today.year, today.month, today.day"
   ]
  },
  {
   "cell_type": "code",
   "execution_count": 18,
   "metadata": {},
   "outputs": [
    {
     "data": {
      "text/plain": [
       "datetime.datetime(2018, 10, 11, 16, 27, 37, 983991)"
      ]
     },
     "execution_count": 18,
     "metadata": {},
     "output_type": "execute_result"
    }
   ],
   "source": [
    "datetime.today()"
   ]
  },
  {
   "cell_type": "code",
   "execution_count": 33,
   "metadata": {},
   "outputs": [
    {
     "data": {
      "text/plain": [
       "datetime.date(2018, 10, 10)"
      ]
     },
     "execution_count": 33,
     "metadata": {},
     "output_type": "execute_result"
    }
   ],
   "source": [
    "one_day = timedelta(days=-1)\n",
    "yesterday = today + one_day\n",
    "yesterday"
   ]
  },
  {
   "cell_type": "markdown",
   "metadata": {},
   "source": [
    "计算两个日期之间的天数"
   ]
  },
  {
   "cell_type": "code",
   "execution_count": 41,
   "metadata": {},
   "outputs": [
    {
     "name": "stdout",
     "output_type": "stream",
     "text": [
      "Output: 1 day, 0:00:00\n",
      "1\n"
     ]
    }
   ],
   "source": [
    "date_diff = today - yesterday\n",
    "print('Output: {0!s}'.format(date_diff))\n",
    "print(str(date_diff).split()[0])"
   ]
  },
  {
   "cell_type": "markdown",
   "metadata": {},
   "source": [
    "# 列表"
   ]
  },
  {
   "cell_type": "code",
   "execution_count": 47,
   "metadata": {},
   "outputs": [
    {
     "data": {
      "text/plain": [
       "[8, 3, 2, 1]"
      ]
     },
     "execution_count": 47,
     "metadata": {},
     "output_type": "execute_result"
    }
   ],
   "source": [
    "a_list = [1, 2, 3]\n",
    "a_list.append(8)\n",
    "#列表反转\n",
    "a_list.reverse()\n",
    "a_list"
   ]
  },
  {
   "cell_type": "code",
   "execution_count": 56,
   "metadata": {},
   "outputs": [
    {
     "data": {
      "text/plain": [
       "[1, 2]"
      ]
     },
     "execution_count": 56,
     "metadata": {},
     "output_type": "execute_result"
    }
   ],
   "source": [
    "#列表排序\n",
    "a_list.sort()\n",
    "a_list"
   ]
  },
  {
   "cell_type": "raw",
   "metadata": {},
   "source": [
    "sorted排序函数\n",
    "使用sorted() 对一个列表集合按照列表中某一个位置的元素进行排序"
   ]
  },
  {
   "cell_type": "code",
   "execution_count": 59,
   "metadata": {},
   "outputs": [
    {
     "data": {
      "text/plain": [
       "[[4, 3, 2, 1], [2, 4, 1, 3], [1, 2, 3, 4]]"
      ]
     },
     "execution_count": 59,
     "metadata": {},
     "output_type": "execute_result"
    }
   ],
   "source": [
    "my_lists = [[1, 2, 3, 4], [4, 3, 2, 1], [2, 4, 1, 3]]\n",
    "my_lists_sorted_by_index_3 = sorted(my_lists, key=lambda x: x[3])\n",
    "my_lists_sorted_by_index_3"
   ]
  },
  {
   "cell_type": "raw",
   "metadata": {},
   "source": [
    "使用operator标准模块中的itemgetter函数，\n",
    "可以使用多个关键字对列表，元祖，和字典进行排序\n",
    "from operator import itemgetter引入"
   ]
  },
  {
   "cell_type": "code",
   "execution_count": 63,
   "metadata": {},
   "outputs": [
    {
     "data": {
      "text/plain": [
       "[[461, 1, 1, 290],\n",
       " [578, 1, 1, 290],\n",
       " [22, 6, 6, 444],\n",
       " [123, 2, 2, 444],\n",
       " [236, 5, 5, 678],\n",
       " [354, 4, 4, 678]]"
      ]
     },
     "execution_count": 63,
     "metadata": {},
     "output_type": "execute_result"
    }
   ],
   "source": [
    "my_lists = [[123, 2, 2, 444], [22, 6, 6, 444], \\\n",
    "            [354, 4, 4, 678], [236, 5, 5, 678], \\\n",
    "            [578, 1, 1, 290], [461, 1, 1, 290]]\n",
    "\n",
    "my_lists_sorted_by_index_3_and_0 = sorted(my_lists, key=itemgetter(3, 0))\n",
    "my_lists_sorted_by_index_3_and_0"
   ]
  },
  {
   "cell_type": "markdown",
   "metadata": {},
   "source": [
    "# 文件"
   ]
  },
  {
   "cell_type": "code",
   "execution_count": 78,
   "metadata": {},
   "outputs": [
    {
     "name": "stdout",
     "output_type": "stream",
     "text": [
      "{\n",
      "\"shell_port\": 52652,\n",
      "\"iopub_port\": 56785,\n",
      "\"stdin_port\": 59772,\n",
      "\"control_port\": 41365,\n",
      "\"hb_port\": 33193,\n",
      "\"ip\": \"127.0.0.1\",\n",
      "\"key\": \"179ba602-601196ae547262e0abe0b09b\",\n",
      "\"transport\": \"tcp\",\n",
      "\"signature_scheme\": \"hmac-sha256\",\n",
      "\"kernel_name\": \"\"\n",
      "}\n"
     ]
    }
   ],
   "source": [
    "#一次读取一个文件\n",
    "input_file = sys.argv[1]\n",
    "filereader = open(input_file, 'r')\n",
    "for row in filereader:\n",
    "    print(row.strip())\n",
    "filereader.close()\n"
   ]
  },
  {
   "cell_type": "code",
   "execution_count": null,
   "metadata": {},
   "outputs": [],
   "source": [
    "#一次读取多个文件\n",
    "inputPath = sys.argv[1]\n",
    "for input_file in glob.glob(os.path.join(inputPath, '*.txt')):\n",
    "    with open(input_file, 'r', newline='', errors='ignore    ') as filereader:\n",
    "        for row in filereader:\n",
    "            print('{}'.format(row))\n"
   ]
  },
  {
   "cell_type": "markdown",
   "metadata": {},
   "source": [
    "# 数据库操作"
   ]
  },
  {
   "cell_type": "raw",
   "metadata": {},
   "source": [
    "# sqlite3模块"
   ]
  },
  {
   "cell_type": "code",
   "execution_count": 79,
   "metadata": {},
   "outputs": [
    {
     "name": "stdout",
     "output_type": "stream",
     "text": [
      "('Bob', 'Notepad', 2.5, '2018-10-01')\n",
      "('Tom', 'Binder', 4.1500000000000004, '2018-10-02')\n",
      "('Lucy', 'Printer', 155.75, '2018-09-28')\n",
      "('Lily', 'Computer', 679.39999999999998, '2018-10-09')\n",
      "Number of row: 4\n"
     ]
    }
   ],
   "source": [
    "import sqlite3\n",
    "\n",
    "# 创建SQLite3内存数据库\n",
    "# 创建带走4个属性的sales表\n",
    "\n",
    "conn = sqlite3.connect(':memory:')\n",
    "query = \"\"\"CREATE TABLE sales\n",
    "(customer VARCHAR(20),\n",
    "product VARCHAR(20),\n",
    "amount FLOAT,\n",
    "date DATE);\"\"\"\n",
    "conn.execute(query)\n",
    "conn.commit()\n",
    "\n",
    "# 在表中插入几行数据\n",
    "data = [\n",
    "    ('Bob', 'Notepad', 2.50, '2018-10-01'),\n",
    "    ('Tom', 'Binder', 4.15, '2018-10-02'),\n",
    "    ('Lucy', 'Printer', 155.75, '2018-09-28'),\n",
    "    ('Lily', 'Computer', 679.40, '2018-10-09')\n",
    "]\n",
    "statement = \"INSERT INTO sales VALUES(?, ?, ?, ?)\"\n",
    "conn.executemany(statement, data)\n",
    "conn.commit()\n",
    "\n",
    "# 查询sales表\n",
    "cursor = conn.execute(\"SELECT *FROM sales\")\n",
    "rows = cursor.fetchall()\n",
    "\n",
    "# 计算查询结果中行的数量\n",
    "row_counter = 0\n",
    "for row in rows:\n",
    "    print(row)\n",
    "    row_counter += 1\n",
    "print('Number of row: %d' % (row_counter))"
   ]
  },
  {
   "cell_type": "markdown",
   "metadata": {},
   "source": [
    "# 图与图表"
   ]
  },
  {
   "cell_type": "code",
   "execution_count": 123,
   "metadata": {},
   "outputs": [],
   "source": [
    "import matplotlib.pyplot as plt\n",
    "plt.style.use=('ggplot')"
   ]
  },
  {
   "cell_type": "markdown",
   "metadata": {},
   "source": [
    "6.1条形图"
   ]
  },
  {
   "cell_type": "code",
   "execution_count": 125,
   "metadata": {},
   "outputs": [
    {
     "data": {
      "image/png": "[encoded data removed]",
      "text/plain": [
       "<Figure size 432x288 with 1 Axes>"
      ]
     },
     "metadata": {},
     "output_type": "display_data"
    }
   ],
   "source": [
    "import matplotlib.pyplot as plt\n",
    "plt.style.use=('ggplot')\n",
    "\n",
    "customers = ['ABC', 'DEF', 'GHI', 'JKL', 'MNO']\n",
    "customers_index = range(len(customers))\n",
    "sale_amounts = [127, 90, 201, 111, 232]\n",
    "\n",
    "# 创建一个基础图\n",
    "fig = plt.figure()\n",
    "\n",
    "# 在基础图上添加一个子图\n",
    "ax1 = fig.add_subplot(1,1,1)\n",
    "#ax1 = plt.subplot(111)\n",
    "\n",
    "# 创建条形图\n",
    "ax1.bar(customers_index, sale_amounts, align='center', color='darkblue')\n",
    "# 设置刻度线的位置，在x轴底部和y轴左侧\n",
    "ax1.xaxis.set_ticks_position('bottom')\n",
    "ax1.yaxis.set_ticks_position('left')\n",
    "\n",
    "# 将条形的刻度线标签走客户索引值改为实际的客户名称\n",
    "plt.xticks(customers_index, customers, rotation=0, fontsize='small')\n",
    "# 添加标签和标题\n",
    "plt.xlabel('Customer Name')\n",
    "plt.ylabel('Sale Amount')\n",
    "plt.title('Sale Amount per Customer')\n",
    "\n",
    "# 将统计图保存到当前文件夹, \n",
    "# dpi=400设置图形的分辨率 [每英寸(1英寸=2.54厘米)的点数]\n",
    "# bbox_inches='tight'，表示保存图形时，将图形四周的空白部分去掉\n",
    "plt.savefig('bar_plot.png', dpi=400, bbox_inches='tight')\n",
    "plt.show()"
   ]
  },
  {
   "cell_type": "code",
   "execution_count": 99,
   "metadata": {},
   "outputs": [
    {
     "data": {
      "image/png": "[encoded data removed]",
      "text/plain": [
       "<Figure size 432x288 with 1 Axes>"
      ]
     },
     "metadata": {},
     "output_type": "display_data"
    }
   ],
   "source": [
    "fig = plt.figure()\n",
    "ax = plt.subplot(111)\n",
    "ax.bar(range(3), [20, 30, 17])\n",
    "\n",
    "plt.show()"
   ]
  },
  {
   "cell_type": "markdown",
   "metadata": {},
   "source": [
    "6.2直方图"
   ]
  },
  {
   "cell_type": "code",
   "execution_count": 126,
   "metadata": {},
   "outputs": [
    {
     "name": "stderr",
     "output_type": "stream",
     "text": [
      "/data/data/com.termux/files/usr/lib/python3.6/site-packages/matplotlib/axes/_axes.py:6462: UserWarning: The 'normed' kwarg is deprecated, and has been replaced by the 'density' kwarg.\n",
      "  warnings.warn(\"The 'normed' kwarg is deprecated, and has been \"\n"
     ]
    },
    {
     "data": {
      "image/png": "[encoded data removed]",
      "text/plain": [
       "<Figure size 432x288 with 1 Axes>"
      ]
     },
     "metadata": {},
     "output_type": "display_data"
    }
   ],
   "source": [
    "import numpy as np\n",
    "import matplotlib.pyplot as plt\n",
    "plt.style.use=('ggplot')\n",
    "\n",
    "mu1, mu2, sigma = 100, 130, 15\n",
    "\n",
    "# 用随机数创建两个正态分布变量x1, x2\n",
    "# x1的均值是100, x2的均值是130\n",
    "x1 = mu1 + sigma*np.random.randn(1000)\n",
    "x2 = mu2 + sigma*np.random.randn(1000)\n",
    "fig = plt.figure()\n",
    "ax1 = fig.add_subplot(1, 1, 1)\n",
    "\n",
    "# 为这两个变量创建两个柱形图，或称频率分布图\n",
    "# bins=50，表示每一个变量的值应该分成50份\n",
    "# normed=False，表示直方图表示的是频率分布，而不是概率密度\n",
    "n, bins, patches = ax1.hist(x1, bins=50, normed=False, color='darkgreen')\n",
    "n, bins, patches = ax1.hist(x2, bins=50, normed=False, color='orange', alpha=0.5)\n",
    "ax1.xaxis.set_ticks_position('bottom')\n",
    "ax1.yaxis.set_ticks_position('left')\n",
    "plt.xlabel('Bins')\n",
    "plt.ylabel('Number of values in Bin')\n",
    "fig.suptitle('Historgrams', fontsize=14, fontweight='bold')\n",
    "ax1.set_title('Two Frequency Distributions')\n",
    "plt.savefig('histogram.png', dpi=400, bbox_inches='tight')\n",
    "plt.show()\n"
   ]
  },
  {
   "cell_type": "code",
   "execution_count": 87,
   "metadata": {},
   "outputs": [],
   "source": [
    "# np.random.rand() 生成随机样本，位于(0, 1)之间\n",
    "# np.random.randn() 从标准的正态分布中返回一个或多个样本值\n",
    "# np.random.randn(3).cumsum() 累加"
   ]
  },
  {
   "cell_type": "markdown",
   "metadata": {},
   "source": [
    "6.3折线图"
   ]
  },
  {
   "cell_type": "code",
   "execution_count": 118,
   "metadata": {},
   "outputs": [
    {
     "data": {
      "image/png": "[encoded data removed]",
      "text/plain": [
       "<Figure size 432x288 with 1 Axes>"
      ]
     },
     "metadata": {},
     "output_type": "display_data"
    }
   ],
   "source": [
    "from numpy.random import randn\n",
    "import matplotlib.pyplot as plt\n",
    "plt.style.use=('ggplot')\n",
    "\n",
    "# 生成随机数据\n",
    "plt_data1 = randn(50).cumsum()\n",
    "plt_data2 = randn(50).cumsum()\n",
    "plt_data3 = randn(50).cumsum()\n",
    "plt_data4 = randn(50).cumsum()\n",
    "\n",
    "fig = plt.figure()\n",
    "ax1 = fig.add_subplot(1, 1, 1)\n",
    "ax1.plot(plt_data1, marker=r'o', color=u'blue', linestyle='-', label='Blue solid')\n",
    "ax1.plot(plt_data2, marker=r'+', color=u'red', linestyle='-', label='Red solid')\n",
    "ax1.plot(plt_data3, marker=r'*', color=u'green', linestyle='-', label='Green solid')\n",
    "ax1.plot(plt_data4, marker=r's', color=u'orange', linestyle='-', label='Orange solid')\n",
    "\n",
    "ax1.xaxis.set_ticks_position('bottom')\n",
    "ax1.yaxis.set_ticks_position('left')\n",
    "ax1.set_title('Line Plots: Markers, Colors, and Linestyles')\n",
    "plt.xlabel('Draw')\n",
    "plt.ylabel('Random Number')\n",
    "\n",
    "# loc='best'，根据图中的空白部分将图例放在最合适的地方\n",
    "plt.legend(loc='best')\n",
    "plt.savefig('line_plot.png', dpi=400, bbox_inches='tight')\n",
    "plt.show()"
   ]
  },
  {
   "cell_type": "markdown",
   "metadata": {},
   "source": [
    "6.4散点图"
   ]
  },
  {
   "cell_type": "raw",
   "metadata": {},
   "source": [
    "下面脚本演示如何创建一幅散点图，并在各个点之间画一条回归曲线"
   ]
  },
  {
   "cell_type": "code",
   "execution_count": 142,
   "metadata": {},
   "outputs": [
    {
     "data": {
      "image/png": "[encoded data removed]",
      "text/plain": [
       "<Figure size 432x288 with 1 Axes>"
      ]
     },
     "metadata": {},
     "output_type": "display_data"
    }
   ],
   "source": [
    "import numpy as np \n",
    "import matplotlib.pyplot as plt\n",
    "plt.style.use=('ggplot')\n",
    "\n",
    "x = np.arange(start=1., stop=15., step=1.)\n",
    "\n",
    "# 通过随机数使数据与一条直线和一条二次曲线稍稍偏离\n",
    "y_linear = x + 5. * np.random.randn(14)\n",
    "y_quadratic = x**2. + 10. * np.random.randn(14)\n",
    "\n",
    "# 通过numpy的polyfit函数通过两组数据点(x, y_linear)和(x, y_quadratic)\n",
    "# 拟合出一条直线和一条二次曲线，再使用poly1d函数\n",
    "# 根据直线和二次曲线的参数生成一个线性方程和二次方程。\n",
    "fn_linear = np.poly1d(np.polyfit(x, y_linear, deg=1))\n",
    "fn_quadratic = np.poly1d(np.polyfit(x, y_quadratic, deg=2))\n",
    "\n",
    "# 创建带走两条回归曲线的散点图，\n",
    "fig = plt.figure()\n",
    "ax1 = fig.add_subplot(1, 1, 1)\n",
    "ax1.plot(x, y_linear, 'bo', x, y_quadratic, 'go', \\\n",
    "        x, fn_linear(x), 'b-', x, fn_quadratic(x), 'g-', linewidth=2)\n",
    "\n",
    "ax1.xaxis.set_ticks_position('bottom')\n",
    "ax1.yaxis.set_ticks_position('left')\n",
    "#fig.suptitle('Scatter Plots Regression Lines')\n",
    "ax1.set_title('Scatter Plots Regression Lines')\n",
    "plt.xlabel('x')\n",
    "plt.ylabel('f(x)')\n",
    "\n",
    "# 设置x轴和y轴的范围\n",
    "plt.xlim((min(x)-1., max(x)+1))\n",
    "plt.ylim((min(y_quadratic)-10., max(y_quadratic)+10.))\n",
    "plt.savefig('scatter_plot.png', dpi=400, bbox_inches='tight')\n",
    "plt.show()"
   ]
  },
  {
   "cell_type": "markdown",
   "metadata": {},
   "source": [
    "# ggplot"
   ]
  },
  {
   "cell_type": "raw",
   "metadata": {},
   "source": [
    "ggplot是一个Python绘图包\n",
    "以下脚本演示如何通过ggplot创建一些基础的统计图，\n",
    "使用的数据是ggplot包内部的数据:"
   ]
  },
  {
   "cell_type": "code",
   "execution_count": 143,
   "metadata": {},
   "outputs": [
    {
     "ename": "ModuleNotFoundError",
     "evalue": "No module named 'ggplot'",
     "output_type": "error",
     "traceback": [
      "\u001b[0;31m---------------------------------------------------------------------------\u001b[0m",
      "\u001b[0;31mModuleNotFoundError\u001b[0m                       Traceback (most recent call last)",
      "\u001b[0;32m<ipython-input-143-ef1dc4917062>\u001b[0m in \u001b[0;36m<module>\u001b[0;34m()\u001b[0m\n\u001b[0;32m----> 1\u001b[0;31m \u001b[0;32mfrom\u001b[0m \u001b[0mggplot\u001b[0m \u001b[0;32mimport\u001b[0m \u001b[0;34m*\u001b[0m\u001b[0;34m\u001b[0m\u001b[0m\n\u001b[0m\u001b[1;32m      2\u001b[0m \u001b[0mprint\u001b[0m\u001b[0;34m(\u001b[0m\u001b[0mmtcars\u001b[0m\u001b[0;34m.\u001b[0m\u001b[0mhead\u001b[0m\u001b[0;34m(\u001b[0m\u001b[0;34m)\u001b[0m\u001b[0;34m)\u001b[0m\u001b[0;34m\u001b[0m\u001b[0m\n",
      "\u001b[0;31mModuleNotFoundError\u001b[0m: No module named 'ggplot'"
     ]
    }
   ],
   "source": [
    "from ggplot import *\n",
    "print(mtcars.head())"
   ]
  },
  {
   "cell_type": "code",
   "execution_count": 85,
   "metadata": {},
   "outputs": [
    {
     "data": {
      "text/plain": [
       "[<matplotlib.lines.Line2D at 0x7f82599c18>]"
      ]
     },
     "execution_count": 85,
     "metadata": {},
     "output_type": "execute_result"
    },
    {
     "data": {
      "image/png": "[encoded data removed]",
      "text/plain": [
       "<Figure size 432x288 with 1 Axes>"
      ]
     },
     "metadata": {},
     "output_type": "display_data"
    }
   ],
   "source": [
    "plt.plot(plt_data1)"
   ]
  },
  {
   "cell_type": "code",
   "execution_count": null,
   "metadata": {},
   "outputs": [],
   "source": []
  },
  {
   "cell_type": "code",
   "execution_count": 34,
   "metadata": {},
   "outputs": [
    {
     "data": {
      "text/plain": [
       "array([  93.21848124,   89.97503324,   85.82321611,   87.12194065,\n",
       "        112.90786019,   85.1894732 ,  117.59673905,  100.66628364,\n",
       "         68.58372151,  110.69256139,   95.5027504 ,  132.85793819,\n",
       "        103.70684016,  126.44892118,  107.30811199,   83.02689536,\n",
       "        133.85474326,   89.02180173,   90.54446655,   93.98524811,\n",
       "        101.42204989,   89.61293788,   95.2447926 ,  125.82497004,\n",
       "        112.68241798,  105.98599227,  120.16513341,  111.7933967 ,\n",
       "        106.1889681 ,   97.58730105,  121.1218731 ,  116.17338074,\n",
       "         99.80339994,  109.01162649,   89.21587556,   83.09382435,\n",
       "         84.81199004,  109.30289864,  101.32549432,   91.29922093,\n",
       "        115.98698037,   96.7080097 ,  119.34851033,  100.62573707,\n",
       "         95.20892681,  106.53600788,   87.72193776,  118.12569476,\n",
       "        123.03600345,  127.65186859,  110.76355869,  102.65010058,\n",
       "         97.03560535,   95.89841089,  115.27125048,   86.11908507,\n",
       "        115.31392586,  104.19094478,   99.73346403,   93.11639297,\n",
       "        100.42193832,  101.19068695,   97.37089808,  102.35221874,\n",
       "         92.34631099,  109.38623731,  113.70160302,  102.02725153,\n",
       "        117.31592633,   97.23331171,   98.92059635,  121.86685529,\n",
       "         77.79771892,  116.98547963,   93.19354232,   97.05563782,\n",
       "         56.19770891,  112.42128268,  102.88072036,   86.20345992,\n",
       "        109.12615225,  101.42654309,  110.23487613,  113.67199558,\n",
       "         82.54814553,   88.96545041,   80.42010644,  120.17537207,\n",
       "         94.12034815,   90.07696339,  123.94474117,  106.37552742,\n",
       "        104.87935634,   95.23902189,  112.5121938 ,  131.78230343,\n",
       "        122.51933119,  102.01277263,   96.67231756,  110.94424773,\n",
       "        103.74721923,   71.17637971,  100.77084647,  116.6827698 ,\n",
       "         77.7616544 ,   89.08993195,   87.29629267,   91.31591177,\n",
       "        104.6926596 ,  117.42457113,   87.9309058 ,  113.65956504,\n",
       "         72.88346518,   81.17354591,   69.70190793,   88.63532598,\n",
       "         71.33580037,   82.58495906,  114.48487234,   98.14492029,\n",
       "         81.15356545,   76.68256893,  105.7598563 ,   99.54843999,\n",
       "         89.43107869,  113.93420082,   74.58744663,   93.95461398,\n",
       "         94.2518344 ,  122.5001225 ,  107.9627773 ,  106.9091671 ,\n",
       "         78.76859337,   89.25599153,  105.85549205,   97.53681151,\n",
       "        124.22073067,   90.64470629,  110.94218377,   79.12493326,\n",
       "        109.87091776,   86.14041587,   73.26538721,  134.69484113,\n",
       "         99.45974296,  111.77693341,  104.263245  ,   95.90771704,\n",
       "        112.87958813,  113.1998425 ,  120.33785915,  124.82537095,\n",
       "        119.6750163 ,   88.79232632,  105.99995484,   93.81946968,\n",
       "         93.078909  ,  110.19603646,  108.19727902,  113.51261892,\n",
       "         95.70491045,  103.75604058,  105.50046648,  100.75953065,\n",
       "         90.05607339,   80.29368473,   90.01025974,  119.87128017,\n",
       "         88.22298359,   89.0307346 ,   97.68197352,   87.17017462,\n",
       "         97.66719198,  104.24150309,  114.84593887,  108.19496884,\n",
       "        106.08909895,   83.27981221,  101.95773758,  121.84336509,\n",
       "         82.30238232,  111.88874752,   97.64621151,   63.96645925,\n",
       "         87.56641707,  106.69204944,  112.78045914,  103.5985957 ,\n",
       "         98.22663405,  104.35727747,  103.20176195,  106.49157537,\n",
       "        111.18970666,  136.68996778,  108.28874029,  101.44319373,\n",
       "        105.87386777,   91.88024715,   96.54951935,   91.34849855,\n",
       "         98.68720297,   95.09524174,  108.28904473,  101.36662489,\n",
       "         98.38441937,  101.96626126,   78.22539814,   94.35109978,\n",
       "         94.02924486,  118.40188406,   92.27226039,  110.30302506,\n",
       "         98.65804811,   99.37202466,  112.1364706 ,  120.62288001,\n",
       "        100.32518361,   82.05939046,  112.50620778,  104.18280752,\n",
       "        118.82535138,   82.99949284,  130.08094829,   92.67084786,\n",
       "         94.31181725,  110.15593271,  113.11167014,  118.74080774,\n",
       "         78.80340459,   77.17817573,  100.67832289,  120.83577217,\n",
       "        110.83860059,  121.69371247,   96.35861789,   97.26204548,\n",
       "        100.09348757,   89.93701508,  121.55965616,   78.58509283,\n",
       "         82.5947621 ,  101.86748408,   66.59280517,  122.42143043,\n",
       "         83.4439724 ,  100.52522769,  106.45064639,  109.3080539 ,\n",
       "        117.86091711,   85.77100999,  102.57614346,   90.45591606,\n",
       "         88.59163749,  107.63991426,   87.01943325,   75.91971166,\n",
       "         76.80111368,   94.65311193,   69.41858607,   86.58720403,\n",
       "         81.26821638,   78.40887504,  106.00746856,   84.64648494,\n",
       "         87.91353152,   97.07541512,  111.92578195,   98.95782368,\n",
       "        100.43910978,  126.26937403,  103.92571351,  102.93075985,\n",
       "         94.96766956,   90.48507332,   98.57732532,  100.13964156,\n",
       "        103.45551924,  114.94175164,  107.63126312,  108.46711484,\n",
       "        108.47746315,  104.33979215,  120.26943909,  135.17506583,\n",
       "         87.4867297 ,   83.63319393,  116.50141127,  122.67077703,\n",
       "         78.91212839,  106.54430991,  101.77960912,   97.14412682,\n",
       "         87.39808072,   72.45072684,  105.81743645,   93.90561876,\n",
       "         90.77844106,   91.35844267,   90.39876078,   83.87237198,\n",
       "        120.94749825,   94.95754673,  130.85051624,  102.01705564,\n",
       "        123.6142447 ,   95.09861714,  107.48175804,   89.7485072 ,\n",
       "        119.90860127,  109.64398999,   97.62420208,   87.20552131,\n",
       "         78.860525  ,  106.04752278,  114.01348884,  130.79792817,\n",
       "         90.99857682,   86.42718286,  125.51134668,   95.69933993,\n",
       "         75.36921817,   68.40130647,   86.05038246,   90.18439318,\n",
       "        105.38749282,  108.45081544,   86.17541416,   92.78459969,\n",
       "        107.25970818,  139.78413092,  119.41263031,   82.55158721,\n",
       "        110.45870562,  105.53738191,   95.48702628,  105.55463106,\n",
       "         85.74079619,   98.34695786,   85.96623713,  103.76221024,\n",
       "        100.90934089,   84.07265276,   95.09037828,   77.53643448,\n",
       "        105.35290877,  102.15275917,  102.94445903,   97.92443615,\n",
       "        107.26752686,  109.64206896,   93.82125187,   96.75888   ,\n",
       "        109.29379114,   91.53630003,   81.91670849,   92.55990129,\n",
       "        114.56438284,  106.16793389,  112.86590746,   62.79500081,\n",
       "        115.87512336,  102.91634874,   80.60687332,  115.54473279,\n",
       "        100.53097646,   96.74924186,  104.58410286,   75.9161634 ,\n",
       "         85.25164597,  109.42292256,  118.00777176,   73.63797716,\n",
       "        106.0144856 ,  107.55362201,   72.56503946,  105.15729994,\n",
       "        119.45315027,   98.87511794,   95.79175144,   90.5291268 ,\n",
       "        110.76486073,   89.82647911,   79.03574155,  105.49295983,\n",
       "        113.8494898 ,  125.39544252,   93.77081348,  112.6959258 ,\n",
       "         85.49691439,   91.41929742,   94.52162202,   67.11423843,\n",
       "        120.07350062,   99.43679358,  106.51114847,  133.01151015,\n",
       "        118.95463732,  126.07236931,  110.71820415,  117.1667098 ,\n",
       "         97.04574678,  121.36388291,  116.38169833,  104.50549006,\n",
       "        101.01336203,  112.19728123,  104.88754413,   76.20072936,\n",
       "         97.66646133,   92.37912932,  107.30267808,   84.8075647 ,\n",
       "        101.17352716,   77.29337439,  117.05290349,   97.3851192 ,\n",
       "        107.820875  ,  103.45639339,  106.78678355,   93.5750214 ,\n",
       "         93.33401747,   60.04935422,   99.356319  ,  108.16025016,\n",
       "        106.8515948 ,   92.80423816,   83.60264247,   91.26960547,\n",
       "        109.95482748,   96.6658071 ,  124.66721198,   82.44866108,\n",
       "         77.90864993,  108.02196872,   80.5359975 ,  105.57652868,\n",
       "        104.90657185,   98.21319559,   97.40406073,  100.40788139,\n",
       "        108.07875793,  106.63009435,  120.47255898,  110.31698119,\n",
       "         83.01796011,  104.47205667,   91.57561217,  113.05656423,\n",
       "         47.48791082,  103.01427816,  104.66979459,  112.85066912,\n",
       "         82.62853887,   88.94581188,   99.41243999,   81.13856416,\n",
       "        110.51193275,  102.30913547,   98.72709541,  109.52189542,\n",
       "         94.69840536,  129.57712035,  103.27629326,  111.39268985,\n",
       "        118.51430375,  101.3804736 ,  122.22957024,  118.98776434,\n",
       "        123.85390458,  105.10332453,  104.27091816,  109.84941856,\n",
       "         84.89577651,  109.7295023 ,   94.3645873 ,  116.18894595,\n",
       "         90.66651557,   88.31024018,   83.90798342,  106.00482329,\n",
       "         69.27602381,  108.5148458 ,  122.07900197,   82.10743338,\n",
       "         94.33331309,  100.01220704,  100.9139952 ,   82.03495785,\n",
       "        107.47469588,  118.29822003,   90.986374  ,   90.10966528,\n",
       "        120.55939067,   92.90689107,  107.95458909,  111.1152666 ,\n",
       "        112.2148142 ,   93.05948116,  121.31995382,  119.66059956,\n",
       "         95.06520226,   97.52221811,  102.28543675,  100.60741388,\n",
       "         76.34044044,   69.56224171,   89.46443724,   87.94059014,\n",
       "        105.35499296,  112.45596933,  108.47266236,  105.67201914,\n",
       "        118.1673927 ,  122.08752766,   96.34986953,   79.81548084,\n",
       "         95.16211218,   84.35703791,   93.33476256,   97.86896918,\n",
       "        105.8752733 ,  100.68345512,   95.32601566,  112.83165191,\n",
       "         67.99154359,  134.58583043,   99.84045339,   79.28496816,\n",
       "        109.93971523,   74.91720921,   81.11129654,  105.55377044,\n",
       "        112.04821655,  110.64742386,  134.5186025 ,  118.35041586,\n",
       "        105.03656388,   93.94638091,  101.83221319,   95.99577717,\n",
       "        104.41041463,  110.49185483,  107.96217938,   90.33595815,\n",
       "        113.7445741 ,   69.27406327,  108.23050327,  113.24004875,\n",
       "         94.16666115,   92.33499957,  112.89756042,   74.86200972,\n",
       "        102.84137546,   97.15814906,   93.52138031,  105.74657383,\n",
       "         89.22399956,  107.0470323 ,   93.71522205,  111.64576141,\n",
       "         86.41812516,  122.22942894,   92.48191256,   74.82241069,\n",
       "        114.56010586,  104.24496644,   87.09913957,  115.16274115,\n",
       "        110.88831873,  107.93114607,  105.09049694,   95.55679787,\n",
       "        102.54205583,   91.88802911,  111.86551442,   94.52927785,\n",
       "         90.81819297,   80.0848819 ,  102.04043367,  111.23651453,\n",
       "        113.39285272,   94.24464176,   67.05383041,  112.56074942,\n",
       "         87.67490526,   94.04768031,   61.75637356,  115.62580729,\n",
       "        127.09015255,  125.18108191,   88.38818872,   98.06804822,\n",
       "        111.93725539,   91.54940724,   97.18318725,  107.7225114 ,\n",
       "        105.82589442,  116.05340266,   89.7493305 ,   98.67669985,\n",
       "         94.73134366,   90.56922965,   96.7502602 ,   65.08255361,\n",
       "         75.06313972,  108.01048032,   86.07365326,   97.80597415,\n",
       "         94.18851148,   89.86385799,  103.02733955,  121.11314481,\n",
       "         81.42713302,  112.29757588,   77.02781071,   99.32556944,\n",
       "         84.58495519,   92.95666069,   97.13183138,  114.80006939,\n",
       "        113.3958485 ,  110.79075544,   83.45520963,   94.82152517,\n",
       "         95.66659027,   92.63110576,  104.06537621,   89.88076402,\n",
       "        102.15118883,   81.00380644,   92.92187098,   69.71469711,\n",
       "         78.66369933,  100.94454794,   93.69422464,   75.0023596 ,\n",
       "        109.221056  ,   66.85089266,   91.77443308,   86.44050353,\n",
       "        100.97171583,   90.78876986,  124.08009565,   66.43221548,\n",
       "        122.04643891,   94.86489977,  108.15384883,   98.62212379,\n",
       "         79.84570941,  124.12791326,  103.86155299,   73.37071019,\n",
       "         92.74575265,  116.98541311,   96.36528606,   94.3225878 ,\n",
       "         80.96016167,  110.98637228,  101.78621223,   95.68905704,\n",
       "        101.25524809,  113.74539498,  156.40896136,  111.74236375,\n",
       "        107.6231641 ,  111.16226225,   71.92051437,   85.04359325,\n",
       "         69.12381664,  113.87540758,  124.3180504 ,   83.0272991 ,\n",
       "         82.2062787 ,   83.64089309,  100.96749104,   83.556599  ,\n",
       "        100.0613697 ,   66.40330656,  102.6943006 ,  109.74957918,\n",
       "         94.73261376,   99.15596525,   69.40303052,   94.52704404,\n",
       "        101.90519207,  115.769054  ,   91.39970125,  100.56821006,\n",
       "        112.77949293,  123.38401387,  107.7831666 ,   99.53985947,\n",
       "         90.47749901,   86.87524779,   99.77469596,   72.44843756,\n",
       "         96.02039682,   93.1505084 ,  102.17866377,   77.64377615,\n",
       "        106.49316687,  111.9037235 ,  107.21290096,  119.44913586,\n",
       "        126.17743669,   87.69595594,  108.41201969,   93.44550385,\n",
       "         81.40568945,   98.86402028,   69.44106248,  112.66781521,\n",
       "        109.19041726,  107.30850109,   71.15835803,   84.1470255 ,\n",
       "         88.1671436 ,   81.7983972 ,  117.25912525,  109.18935946,\n",
       "        105.41608306,  108.78274459,   89.12493428,  104.75648711,\n",
       "         87.68442153,   98.25326038,  109.53229131,   94.77720008,\n",
       "         91.74668431,   97.75112418,  108.84607578,   84.51447914,\n",
       "        105.55951401,  101.73840789,   79.44762364,   79.54127385,\n",
       "         89.06773184,  140.8932038 ,  118.65486669,   92.21856634,\n",
       "         92.32210043,  102.17390058,  114.58868716,   85.07780103,\n",
       "         91.28571523,   74.01400574,  110.388834  ,  124.95932549,\n",
       "         92.35193066,   85.53059196,  103.87294607,  114.28042087,\n",
       "         89.64040199,   88.54960914,  110.83582887,   87.51234447,\n",
       "        100.3627965 ,  110.82386023,  118.22065609,   77.26488433,\n",
       "         96.04807714,   90.63656471,   99.8292453 ,   85.6773348 ,\n",
       "        101.68982503,  109.99962607,  101.73433984,  120.03904895,\n",
       "         91.3307188 ,  117.61372394,  103.29352183,   89.411816  ,\n",
       "         91.40566222,   82.71887647,  111.18272911,  110.45201607,\n",
       "        100.35134639,   98.85475573,   72.51400923,  115.34580555,\n",
       "        107.09791242,  101.12208246,  110.91737815,  136.49322309,\n",
       "        112.94597155,  110.29233673,   90.05330136,   77.8852509 ,\n",
       "        108.11696797,  125.42987986,  100.39289995,   82.84046438,\n",
       "        106.58982448,   80.10296338,   85.08404167,   94.74654102,\n",
       "        101.08037598,  108.74360498,   98.00078237,  112.3498033 ,\n",
       "         96.55578398,  104.52381882,   92.35112642,  107.73508698,\n",
       "         96.9565866 ,  128.94807188,  116.69484787,  114.55921951,\n",
       "        111.35620228,   82.48380528,  109.51076929,   99.37430907,\n",
       "         88.78432114,  109.04248387,  100.33446642,  106.70533296,\n",
       "         87.44910938,  107.58258937,  111.10085217,   97.99653847,\n",
       "        116.03023951,   62.63518574,  106.94626312,   82.81591547,\n",
       "         96.03850072,  110.06613337,   65.87353106,   95.59981567,\n",
       "        104.65076413,  103.46499242,  120.18975332,   91.26008941,\n",
       "         87.78355171,  109.62103695,   94.98188691,  111.02956492,\n",
       "        115.61758001,   70.67578665,  110.15019235,   93.10810356,\n",
       "         79.98268632,   93.62814368,   73.33247851,   88.12182773,\n",
       "         98.84107923,   89.08380418,   58.74376832,  124.26533879,\n",
       "        128.63560437,   77.68300482,  111.33822781,  102.51688789,\n",
       "        122.42488357,  117.87920326,  119.62875382,   90.23110419,\n",
       "         86.94885985,  110.44216544,   99.78956123,  108.92147201,\n",
       "         98.81575091,  120.02956977,   98.89976232,   82.14470365,\n",
       "         99.82070943,  113.78097636,   83.80519557,  104.60207355,\n",
       "         97.21975176,  120.62072649,  106.6774064 ,  102.69740042,\n",
       "         91.15058795,  113.20681019,  105.89446802,   90.23264042,\n",
       "         99.90914628,  131.06726659,   92.52718459,   64.09286305,\n",
       "         90.39614511,  106.15575751,   81.8312654 ,   69.80838176,\n",
       "        101.59854532,   92.02199622,  111.30975744,   91.75441904,\n",
       "        101.69162673,  100.79815916,  118.01910128,   96.9977675 ,\n",
       "        100.62409312,  101.3153688 ,  108.18343349,  107.40542637,\n",
       "         98.85182546,   78.95440215,   85.74742808,  113.98663947,\n",
       "        112.50286585,   97.57328853,   84.39091258,   96.14036123,\n",
       "         91.44539569,  133.96176734,   89.72906526,  100.01558412,\n",
       "        113.41648291,   78.87003806,  121.61112445,  118.93838034,\n",
       "         92.16505227,  110.51382961,   94.48258251,  121.24785295,\n",
       "        107.41745034,   97.49433397,   96.70819366,   92.38711794,\n",
       "        105.72737865,  123.42049632,  130.00636733,  123.23962531,\n",
       "        125.47599819,  117.44746528,  102.68821025,   98.62181065,\n",
       "         96.90516846,   96.09290389,  111.1524483 ,   95.00162016,\n",
       "        108.34722909,   91.56169652,   92.56814889,  110.37250995,\n",
       "         93.92747062,  107.7378126 ,   53.44286049,   83.5793088 ,\n",
       "        132.19936479,  122.9170016 ,   98.02039513,  112.94010813,\n",
       "         93.79117719,  101.84331135,  117.66886482,   91.09295205,\n",
       "        112.62574749,   99.13368633,   85.77039935,   90.05441119,\n",
       "         70.84507801,  119.32068183,   98.94974428,  111.74424684,\n",
       "         75.92083871,  120.35362009,  129.24775406,  110.02929806,\n",
       "         97.70418261,  111.87345147,  109.43482532,  115.95958017,\n",
       "         76.44618755,  100.79090519,  118.50302464,   83.58514801,\n",
       "         96.59434752,  114.66314185,   75.19019494,  103.09559573,\n",
       "        102.57219736,  112.26183649,   97.89221446,  132.87794731,\n",
       "        100.7417384 ,  102.18257376,   81.13457835,  122.35622493,\n",
       "         76.77962762,  107.43398556,   89.84269337,  111.07473391,\n",
       "        107.0287599 ,  109.69024762,   89.71004837,  108.59752992,\n",
       "        114.96005728,  120.16876405,   95.22935733,  105.94888338,\n",
       "         95.34299529,   63.82389483,   87.98726218,  109.47042148,\n",
       "        103.60577501,   87.34651468,  120.29085738,   99.72186442])"
      ]
     },
     "execution_count": 34,
     "metadata": {},
     "output_type": "execute_result"
    }
   ],
   "source": [
    "x1"
   ]
  },
  {
   "cell_type": "code",
   "execution_count": 24,
   "metadata": {},
   "outputs": [
    {
     "data": {
      "text/plain": [
       "<BarContainer object of 10 artists>"
      ]
     },
     "execution_count": 24,
     "metadata": {},
     "output_type": "execute_result"
    },
    {
     "data": {
      "image/png": "[encoded data removed]",
      "text/plain": [
       "<Figure size 432x288 with 1 Axes>"
      ]
     },
     "metadata": {},
     "output_type": "display_data"
    }
   ],
   "source": [
    "np.random.randn(10)\n",
    "plt.bar(range(10), np.random.randn(10))"
   ]
  },
  {
   "cell_type": "code",
   "execution_count": null,
   "metadata": {},
   "outputs": [],
   "source": []
  }
 ],
 "metadata": {
  "kernelspec": {
   "display_name": "Python 3",
   "language": "python",
   "name": "python3"
  },
  "language_info": {
   "codemirror_mode": {
    "name": "ipython",
    "version": 3
   },
   "file_extension": ".py",
   "mimetype": "text/x-python",
   "name": "python",
   "nbconvert_exporter": "python",
   "pygments_lexer": "ipython3",
   "version": "3.6.2"
  }
 },
 "nbformat": 4,
 "nbformat_minor": 2
}
