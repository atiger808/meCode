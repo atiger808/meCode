{
 "cells": [
  {
   "cell_type": "code",
   "execution_count": 2,
   "metadata": {},
   "outputs": [],
   "source": [
    "import numpy as np\n",
    "import matplotlib.pyplot as plt\n",
    "%matplotlib inline"
   ]
  },
  {
   "cell_type": "code",
   "execution_count": 4,
   "metadata": {},
   "outputs": [],
   "source": [
    "np.random.seed(0)\n",
    "X = np.random.randn(200, 2)\n",
    "y = np.logical_xor(X[:, 0] > 0, X[:, 1] > 0)"
   ]
  },
  {
   "cell_type": "code",
   "execution_count": 14,
   "metadata": {},
   "outputs": [
    {
     "data": {
      "text/plain": [
       "array([-1, -1, -1, -1, -1, -1, -1, -1, -1, -1, -1, -1, -1, -1, -1, -1, -1,\n",
       "       -1, -1, -1, -1, -1, -1, -1, -1, -1, -1, -1, -1, -1, -1, -1, -1, -1,\n",
       "       -1, -1, -1, -1, -1, -1, -1, -1, -1, -1, -1, -1, -1, -1, -1, -1, -1,\n",
       "       -1, -1, -1, -1, -1, -1, -1, -1, -1, -1, -1, -1, -1, -1, -1, -1, -1,\n",
       "       -1, -1, -1, -1, -1, -1, -1, -1, -1, -1, -1, -1, -1, -1, -1, -1, -1,\n",
       "       -1, -1, -1, -1, -1, -1, -1, -1, -1, -1, -1, -1, -1, -1, -1, -1, -1,\n",
       "       -1, -1, -1, -1, -1, -1, -1, -1, -1, -1, -1, -1, -1, -1, -1, -1, -1,\n",
       "       -1, -1, -1, -1, -1, -1, -1, -1, -1, -1, -1, -1, -1, -1, -1, -1, -1,\n",
       "       -1, -1, -1, -1, -1, -1, -1, -1, -1, -1, -1, -1, -1, -1, -1, -1, -1,\n",
       "       -1, -1, -1, -1, -1, -1, -1, -1, -1, -1, -1, -1, -1, -1, -1, -1, -1,\n",
       "       -1, -1, -1, -1, -1, -1, -1, -1, -1, -1, -1, -1, -1, -1, -1, -1, -1,\n",
       "       -1, -1, -1, -1, -1, -1, -1, -1, -1, -1, -1, -1, -1])"
      ]
     },
     "execution_count": 14,
     "metadata": {},
     "output_type": "execute_result"
    }
   ],
   "source": [
    "y = np.where(y, -1, 1)\n",
    "y"
   ]
  },
  {
   "cell_type": "code",
   "execution_count": 12,
   "metadata": {},
   "outputs": [
    {
     "data": {
      "image/png": "[encoded data removed]",
      "text/plain": [
       "<matplotlib.figure.Figure at 0xf1b47390>"
      ]
     },
     "metadata": {},
     "output_type": "display_data"
    }
   ],
   "source": [
    "plt.scatter(X[y == 1, 0], X[y == 1, 1],\n",
    "           c = 'b', marker = 'x', \n",
    "           label = '1')\n",
    "plt.scatter(X[y == -1, 0], X[y == -1, 1],\n",
    "           c = 'r', marker = 's',\n",
    "           label = '1')\n",
    "plt.ylim(-3.0)\n",
    "plt.legend()\n",
    "plt.show()"
   ]
  },
  {
   "cell_type": "code",
   "execution_count": 13,
   "metadata": {},
   "outputs": [
    {
     "data": {
      "text/plain": [
       "array([ 1.76405234,  0.97873798,  0.14404357,  0.76103772,  0.44386323,\n",
       "        1.53277921,  0.15494742, -0.88778575,  1.23029068, -0.38732682,\n",
       "       -1.04855296, -0.50965218, -1.61389785, -0.51080514,  0.06651722,\n",
       "       -0.63432209, -0.67246045, -0.81314628,  0.72909056, -0.87079715,\n",
       "        1.48825219,  0.20827498,  0.3563664 ,  0.01050002,  0.12691209,\n",
       "       -0.41361898,  1.92294203,  1.86755896,  0.61407937,  0.29823817,\n",
       "       -0.69456786,  0.67229476,  0.1666735 ,  2.38314477, -1.31590741,\n",
       "       -0.74475482, -0.09845252, -1.14746865,  0.94942081, -1.00021535,\n",
       "        1.18802979,  0.92085882, -0.80340966, -0.35399391, -0.6436184 ,\n",
       "       -0.03928282,  0.77179055,  2.16323595, -0.36918184,  1.0996596 ,\n",
       "       -0.02432612,  0.91017891, -0.94444626, -0.955945  ,  0.15650654,\n",
       "       -0.59731607, -1.42406091,  0.42625873, -0.63743702, -0.13288058,\n",
       "       -0.30901297,  1.15233156, -0.81336426,  0.69153875, -0.72559738,\n",
       "       -1.18885926, -0.59631404,  0.52389102,  1.95591231, -0.65240858,\n",
       "        0.28634369,  0.68981816, -0.62808756,  0.09772497, -0.11816404,\n",
       "       -1.33425847, -1.12682581, -0.04217145, -0.0616264 , -0.71960439,\n",
       "       -1.15735526, -0.68783761, -0.44092263,  0.5785215 , -0.76414392,\n",
       "       -0.6522936 , -1.84306955,  0.69845715,  0.93184837, -0.19065349,\n",
       "       -0.26773354,  0.04949498, -2.25556423, -0.98551074,  1.64813493,\n",
       "       -0.35343175, -0.29183736,  0.85792392,  1.46657872])"
      ]
     },
     "execution_count": 13,
     "metadata": {},
     "output_type": "execute_result"
    }
   ],
   "source": [
    "X[y == 1, 0]"
   ]
  },
  {
   "cell_type": "code",
   "execution_count": null,
   "metadata": {},
   "outputs": [],
   "source": []
  }
 ],
 "metadata": {
  "kernelspec": {
   "display_name": "Python 3",
   "language": "python",
   "name": "python3"
  },
  "language_info": {
   "codemirror_mode": {
    "name": "ipython",
    "version": 3
   },
   "file_extension": ".py",
   "mimetype": "text/x-python",
   "name": "python",
   "nbconvert_exporter": "python",
   "pygments_lexer": "ipython3",
   "version": "3.6.2"
  }
 },
 "nbformat": 4,
 "nbformat_minor": 2
}
