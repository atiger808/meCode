{
 "cells": [
  {
   "cell_type": "code",
   "execution_count": 1,
   "metadata": {},
   "outputs": [],
   "source": [
    "import numpy as np\n",
    "import matplotlib.pyplot as plt"
   ]
  },
  {
   "cell_type": "code",
   "execution_count": 7,
   "metadata": {},
   "outputs": [],
   "source": [
    "#  set maximun interation\n",
    "maxIter = 500\n",
    "#  set dimension and delta\n",
    "lenX = lenY = 20\n",
    "delta = 1\n",
    "#  set boundary condition\n",
    "Ttop = 100\n",
    "Tbottom = 0\n",
    "Tleft = 0\n",
    "Tright = 30\n",
    "Tguess = 30\n",
    "colorinterpolation = 50\n",
    "colourMap = plt.cm.jet\n",
    "X,Y = np.meshgrid(np.arange(0, lenX), np.arange(0, lenY))\n",
    "T = np.empty((lenX, lenY))\n",
    "T.fill(Tguess)"
   ]
  },
  {
   "cell_type": "code",
   "execution_count": null,
   "metadata": {},
   "outputs": [],
   "source": []
  }
 ],
 "metadata": {
  "kernelspec": {
   "display_name": "Python 3",
   "language": "python",
   "name": "python3"
  },
  "language_info": {
   "codemirror_mode": {
    "name": "ipython",
    "version": 3
   },
   "file_extension": ".py",
   "mimetype": "text/x-python",
   "name": "python",
   "nbconvert_exporter": "python",
   "pygments_lexer": "ipython3",
   "version": "3.6.2"
  }
 },
 "nbformat": 4,
 "nbformat_minor": 2
}
