{
 "cells": [
  {
   "cell_type": "code",
   "execution_count": 14,
   "metadata": {},
   "outputs": [],
   "source": [
    "import pandas as pd\n",
    "import matplotlib.pyplot as plt\n",
    "import matplotlib\n",
    "import json"
   ]
  },
  {
   "cell_type": "code",
   "execution_count": 15,
   "metadata": {},
   "outputs": [],
   "source": [
    "font_path = '/sdcard/1/font/方正标宋.ttf'\n",
    "\n",
    "\n",
    "font = matplotlib.font_manager.FontProperties(fname=font_path,size=15)\n",
    "\n",
    "\n",
    "\n",
    "#plt.rcParams['axes.unicode_minus'] = True\n",
    "\n",
    "\n",
    "\n",
    "#plt.rcParams['font.sans-serif'] = myfont\n",
    "\n",
    "\n",
    "plt.rcdefaults()"
   ]
  },
  {
   "cell_type": "markdown",
   "metadata": {},
   "source": [
    "# 读取本地json文件"
   ]
  },
  {
   "cell_type": "code",
   "execution_count": 16,
   "metadata": {},
   "outputs": [],
   "source": [
    "with open('/sdcard/1/csv/dahua.json', 'r', encoding='utf-8') as f:\n",
    "    content = f.read()"
   ]
  },
  {
   "cell_type": "markdown",
   "metadata": {},
   "source": [
    "# 转换为python字典列表格式"
   ]
  },
  {
   "cell_type": "code",
   "execution_count": 17,
   "metadata": {},
   "outputs": [],
   "source": [
    "dict_list = [json.loads(i.strip()) for i in content.split('\\n')[:-1]]"
   ]
  },
  {
   "cell_type": "markdown",
   "metadata": {},
   "source": [
    "# 转换为pandas格式"
   ]
  },
  {
   "cell_type": "code",
   "execution_count": 18,
   "metadata": {},
   "outputs": [],
   "source": [
    "df = pd.DataFrame(dict_list)"
   ]
  },
  {
   "cell_type": "markdown",
   "metadata": {},
   "source": [
    "# 日期字符串转pandas时间格式"
   ]
  },
  {
   "cell_type": "markdown",
   "metadata": {},
   "source": [
    "python的datetime的日期时间格式化strptime和pandas的to_datetime同样的支持格式化，语法一样的，同样是区分大小写"
   ]
  },
  {
   "cell_type": "code",
   "execution_count": 20,
   "metadata": {},
   "outputs": [],
   "source": [
    "df[\"date\"] = pd.to_datetime(df[\"date\"], format=\"%Y-%m-%d\")"
   ]
  },
  {
   "cell_type": "markdown",
   "metadata": {},
   "source": [
    "# 保存为csv文件"
   ]
  },
  {
   "cell_type": "code",
   "execution_count": 21,
   "metadata": {},
   "outputs": [],
   "source": [
    "df.to_csv('/sdcard/1/csv/dahua.csv')"
   ]
  },
  {
   "cell_type": "code",
   "execution_count": 22,
   "metadata": {
    "scrolled": true
   },
   "outputs": [
    {
     "data": {
      "text/html": [
       "<div>\n",
       "<style scoped>\n",
       "    .dataframe tbody tr th:only-of-type {\n",
       "        vertical-align: middle;\n",
       "    }\n",
       "\n",
       "    .dataframe tbody tr th {\n",
       "        vertical-align: top;\n",
       "    }\n",
       "\n",
       "    .dataframe thead th {\n",
       "        text-align: right;\n",
       "    }\n",
       "</style>\n",
       "<table border=\"1\" class=\"dataframe\">\n",
       "  <thead>\n",
       "    <tr style=\"text-align: right;\">\n",
       "      <th></th>\n",
       "      <th>0</th>\n",
       "      <th>1</th>\n",
       "      <th>2</th>\n",
       "    </tr>\n",
       "  </thead>\n",
       "  <tbody>\n",
       "    <tr>\n",
       "      <th>content</th>\n",
       "      <td>一、方案背景\\n近年来，恐怖袭击与极端暴力事件屡有发生，造成了巨大的人身、财产安全损失，产生...</td>\n",
       "      <td>近日，深圳证券交易所发布《关于中小企业板上市公司2017年度信息披露考核结果的通报》，公司在...</td>\n",
       "      <td>世界安防看中国，中国连动全世界。日前，第七次中国-中东欧国家合作“16+1”峰会在保加利亚首...</td>\n",
       "    </tr>\n",
       "    <tr>\n",
       "      <th>date</th>\n",
       "      <td>2018-07-20 00:00:00</td>\n",
       "      <td>2018-07-06 00:00:00</td>\n",
       "      <td>2018-07-20 00:00:00</td>\n",
       "    </tr>\n",
       "    <tr>\n",
       "      <th>title</th>\n",
       "      <td>大华股份智慧安检综合解决方案来袭</td>\n",
       "      <td>大华股份连续八年获深交所信息披露考核最高评级</td>\n",
       "      <td>展民族品牌自信 大华股份闪耀亮相第七次“16+1”峰会</td>\n",
       "    </tr>\n",
       "    <tr>\n",
       "      <th>url</th>\n",
       "      <td>https://www.dahuatech.com/news/info/663.html?p...</td>\n",
       "      <td>https://www.dahuatech.com/news/info/657.html?p...</td>\n",
       "      <td>https://www.dahuatech.com/news/info/664.html?p...</td>\n",
       "    </tr>\n",
       "  </tbody>\n",
       "</table>\n",
       "</div>"
      ],
      "text/plain": [
       "                                                         0  \\\n",
       "content  一、方案背景\\n近年来，恐怖袭击与极端暴力事件屡有发生，造成了巨大的人身、财产安全损失，产生...   \n",
       "date                                   2018-07-20 00:00:00   \n",
       "title                                     大华股份智慧安检综合解决方案来袭   \n",
       "url      https://www.dahuatech.com/news/info/663.html?p...   \n",
       "\n",
       "                                                         1  \\\n",
       "content  近日，深圳证券交易所发布《关于中小企业板上市公司2017年度信息披露考核结果的通报》，公司在...   \n",
       "date                                   2018-07-06 00:00:00   \n",
       "title                               大华股份连续八年获深交所信息披露考核最高评级   \n",
       "url      https://www.dahuatech.com/news/info/657.html?p...   \n",
       "\n",
       "                                                         2  \n",
       "content  世界安防看中国，中国连动全世界。日前，第七次中国-中东欧国家合作“16+1”峰会在保加利亚首...  \n",
       "date                                   2018-07-20 00:00:00  \n",
       "title                          展民族品牌自信 大华股份闪耀亮相第七次“16+1”峰会  \n",
       "url      https://www.dahuatech.com/news/info/664.html?p...  "
      ]
     },
     "execution_count": 22,
     "metadata": {},
     "output_type": "execute_result"
    }
   ],
   "source": [
    "df.head(3).T"
   ]
  },
  {
   "cell_type": "code",
   "execution_count": 23,
   "metadata": {},
   "outputs": [
    {
     "data": {
      "text/plain": [
       "Timestamp('2018-07-20 00:00:00')"
      ]
     },
     "execution_count": 23,
     "metadata": {},
     "output_type": "execute_result"
    }
   ],
   "source": [
    "df.date[0]"
   ]
  },
  {
   "cell_type": "code",
   "execution_count": 44,
   "metadata": {},
   "outputs": [
    {
     "data": {
      "text/html": [
       "<div>\n",
       "<style scoped>\n",
       "    .dataframe tbody tr th:only-of-type {\n",
       "        vertical-align: middle;\n",
       "    }\n",
       "\n",
       "    .dataframe tbody tr th {\n",
       "        vertical-align: top;\n",
       "    }\n",
       "\n",
       "    .dataframe thead th {\n",
       "        text-align: right;\n",
       "    }\n",
       "</style>\n",
       "<table border=\"1\" class=\"dataframe\">\n",
       "  <thead>\n",
       "    <tr style=\"text-align: right;\">\n",
       "      <th></th>\n",
       "      <th>date</th>\n",
       "      <th>title</th>\n",
       "    </tr>\n",
       "  </thead>\n",
       "  <tbody>\n",
       "    <tr>\n",
       "      <th>10</th>\n",
       "      <td>2018-06-26</td>\n",
       "      <td>浙江荣盛控股集团与大华股份签署战略合作协议</td>\n",
       "    </tr>\n",
       "    <tr>\n",
       "      <th>11</th>\n",
       "      <td>2018-06-26</td>\n",
       "      <td>浙江省台州市公安机关考察团一行莅临大华股份考察指导</td>\n",
       "    </tr>\n",
       "    <tr>\n",
       "      <th>12</th>\n",
       "      <td>2018-06-29</td>\n",
       "      <td>防盗神器  大华股份推出非机动车智能管控方案</td>\n",
       "    </tr>\n",
       "    <tr>\n",
       "      <th>13</th>\n",
       "      <td>2018-06-25</td>\n",
       "      <td>大华股份亮相IFSEC英国展 与行业共议GDPR和网络安全发展</td>\n",
       "    </tr>\n",
       "  </tbody>\n",
       "</table>\n",
       "</div>"
      ],
      "text/plain": [
       "         date                            title\n",
       "10 2018-06-26            浙江荣盛控股集团与大华股份签署战略合作协议\n",
       "11 2018-06-26        浙江省台州市公安机关考察团一行莅临大华股份考察指导\n",
       "12 2018-06-29           防盗神器  大华股份推出非机动车智能管控方案\n",
       "13 2018-06-25  大华股份亮相IFSEC英国展 与行业共议GDPR和网络安全发展"
      ]
     },
     "execution_count": 44,
     "metadata": {},
     "output_type": "execute_result"
    }
   ],
   "source": [
    "df.loc[10:13, [\"date\", \"title\"]]"
   ]
  },
  {
   "cell_type": "code",
   "execution_count": 46,
   "metadata": {},
   "outputs": [
    {
     "data": {
      "text/html": [
       "<div>\n",
       "<style scoped>\n",
       "    .dataframe tbody tr th:only-of-type {\n",
       "        vertical-align: middle;\n",
       "    }\n",
       "\n",
       "    .dataframe tbody tr th {\n",
       "        vertical-align: top;\n",
       "    }\n",
       "\n",
       "    .dataframe thead th {\n",
       "        text-align: right;\n",
       "    }\n",
       "</style>\n",
       "<table border=\"1\" class=\"dataframe\">\n",
       "  <thead>\n",
       "    <tr style=\"text-align: right;\">\n",
       "      <th></th>\n",
       "      <th>date</th>\n",
       "      <th>title</th>\n",
       "    </tr>\n",
       "  </thead>\n",
       "  <tbody>\n",
       "    <tr>\n",
       "      <th>10</th>\n",
       "      <td>2018-06-26</td>\n",
       "      <td>浙江荣盛控股集团与大华股份签署战略合作协议</td>\n",
       "    </tr>\n",
       "    <tr>\n",
       "      <th>11</th>\n",
       "      <td>2018-06-26</td>\n",
       "      <td>浙江省台州市公安机关考察团一行莅临大华股份考察指导</td>\n",
       "    </tr>\n",
       "    <tr>\n",
       "      <th>12</th>\n",
       "      <td>2018-06-29</td>\n",
       "      <td>防盗神器  大华股份推出非机动车智能管控方案</td>\n",
       "    </tr>\n",
       "    <tr>\n",
       "      <th>13</th>\n",
       "      <td>2018-06-25</td>\n",
       "      <td>大华股份亮相IFSEC英国展 与行业共议GDPR和网络安全发展</td>\n",
       "    </tr>\n",
       "  </tbody>\n",
       "</table>\n",
       "</div>"
      ],
      "text/plain": [
       "         date                            title\n",
       "10 2018-06-26            浙江荣盛控股集团与大华股份签署战略合作协议\n",
       "11 2018-06-26        浙江省台州市公安机关考察团一行莅临大华股份考察指导\n",
       "12 2018-06-29           防盗神器  大华股份推出非机动车智能管控方案\n",
       "13 2018-06-25  大华股份亮相IFSEC英国展 与行业共议GDPR和网络安全发展"
      ]
     },
     "execution_count": 46,
     "metadata": {},
     "output_type": "execute_result"
    }
   ],
   "source": [
    "df.loc[10:13, [\"date\", \"title\"]]"
   ]
  },
  {
   "cell_type": "markdown",
   "metadata": {},
   "source": [
    "# 按新闻日期进行排序"
   ]
  },
  {
   "cell_type": "code",
   "execution_count": 47,
   "metadata": {
    "scrolled": true
   },
   "outputs": [],
   "source": [
    "df1 = df.sort_values(by=[\"date\"], ascending=False)"
   ]
  },
  {
   "cell_type": "code",
   "execution_count": 48,
   "metadata": {},
   "outputs": [
    {
     "data": {
      "text/plain": [
       "'大华股份智慧安检综合解决方案来袭'"
      ]
     },
     "execution_count": 48,
     "metadata": {},
     "output_type": "execute_result"
    }
   ],
   "source": [
    "df1.iloc[:, [1, 2, 3]]\n",
    "df1.title[0]"
   ]
  },
  {
   "cell_type": "code",
   "execution_count": 49,
   "metadata": {},
   "outputs": [
    {
     "name": "stdout",
     "output_type": "stream",
     "text": [
      "大华股份智慧安检综合解决方案来袭\n",
      "大华股份连续八年获深交所信息披露考核最高评级\n",
      "展民族品牌自信 大华股份闪耀亮相第七次“16+1”峰会\n",
      "巧借东风，保卫蓝天 | 大华股份铁塔秸秆禁烧解决方案\n",
      "拒绝滥用远光灯 大华股份推出智能远光灯抓拍摄像机\n",
      "大华股份与广联达签署战略合作协议\n"
     ]
    }
   ],
   "source": [
    "for i in range(6):\n",
    "    print(df.title[i])\n",
    "   # print(i[\"url\"])"
   ]
  },
  {
   "cell_type": "code",
   "execution_count": 51,
   "metadata": {},
   "outputs": [
    {
     "data": {
      "text/html": [
       "<div>\n",
       "<style scoped>\n",
       "    .dataframe tbody tr th:only-of-type {\n",
       "        vertical-align: middle;\n",
       "    }\n",
       "\n",
       "    .dataframe tbody tr th {\n",
       "        vertical-align: top;\n",
       "    }\n",
       "\n",
       "    .dataframe thead th {\n",
       "        text-align: right;\n",
       "    }\n",
       "</style>\n",
       "<table border=\"1\" class=\"dataframe\">\n",
       "  <thead>\n",
       "    <tr style=\"text-align: right;\">\n",
       "      <th></th>\n",
       "      <th>7</th>\n",
       "      <th>8</th>\n",
       "      <th>0</th>\n",
       "      <th>2</th>\n",
       "      <th>3</th>\n",
       "    </tr>\n",
       "  </thead>\n",
       "  <tbody>\n",
       "    <tr>\n",
       "      <th>content</th>\n",
       "      <td>在人工智能领域，大华股份推出大华睿智系列的AI智能产品和解决方案，积极将人工智能落地到实际场...</td>\n",
       "      <td>要说智能视频监控领域，球形摄像机，视野角度大，视角调整灵活，但变焦范围小；枪式摄像机，变焦范...</td>\n",
       "      <td>一、方案背景\\n近年来，恐怖袭击与极端暴力事件屡有发生，造成了巨大的人身、财产安全损失，产生...</td>\n",
       "      <td>世界安防看中国，中国连动全世界。日前，第七次中国-中东欧国家合作“16+1”峰会在保加利亚首...</td>\n",
       "      <td>近年来，每逢夏秋之际，农村大面积秸秆焚烧现象层出不穷，不仅造成了资源的浪费，更对环境带来了严...</td>\n",
       "    </tr>\n",
       "    <tr>\n",
       "      <th>date</th>\n",
       "      <td>2018-07-27 00:00:00</td>\n",
       "      <td>2018-07-27 00:00:00</td>\n",
       "      <td>2018-07-20 00:00:00</td>\n",
       "      <td>2018-07-20 00:00:00</td>\n",
       "      <td>2018-07-13 00:00:00</td>\n",
       "    </tr>\n",
       "    <tr>\n",
       "      <th>title</th>\n",
       "      <td>大华股份人工智能技术在目标检测国际竞赛中斩获第一</td>\n",
       "      <td>放眼全局，聚焦细节 大华股份推出灵瞳一体化摄像机</td>\n",
       "      <td>大华股份智慧安检综合解决方案来袭</td>\n",
       "      <td>展民族品牌自信 大华股份闪耀亮相第七次“16+1”峰会</td>\n",
       "      <td>巧借东风，保卫蓝天 | 大华股份铁塔秸秆禁烧解决方案</td>\n",
       "    </tr>\n",
       "    <tr>\n",
       "      <th>url</th>\n",
       "      <td>https://www.dahuatech.com/news/info/665.html?p...</td>\n",
       "      <td>https://www.dahuatech.com/news/info/666.html?p...</td>\n",
       "      <td>https://www.dahuatech.com/news/info/663.html?p...</td>\n",
       "      <td>https://www.dahuatech.com/news/info/664.html?p...</td>\n",
       "      <td>https://www.dahuatech.com/news/info/661.html?p...</td>\n",
       "    </tr>\n",
       "  </tbody>\n",
       "</table>\n",
       "</div>"
      ],
      "text/plain": [
       "                                                         7  \\\n",
       "content  在人工智能领域，大华股份推出大华睿智系列的AI智能产品和解决方案，积极将人工智能落地到实际场...   \n",
       "date                                   2018-07-27 00:00:00   \n",
       "title                             大华股份人工智能技术在目标检测国际竞赛中斩获第一   \n",
       "url      https://www.dahuatech.com/news/info/665.html?p...   \n",
       "\n",
       "                                                         8  \\\n",
       "content  要说智能视频监控领域，球形摄像机，视野角度大，视角调整灵活，但变焦范围小；枪式摄像机，变焦范...   \n",
       "date                                   2018-07-27 00:00:00   \n",
       "title                             放眼全局，聚焦细节 大华股份推出灵瞳一体化摄像机   \n",
       "url      https://www.dahuatech.com/news/info/666.html?p...   \n",
       "\n",
       "                                                         0  \\\n",
       "content  一、方案背景\\n近年来，恐怖袭击与极端暴力事件屡有发生，造成了巨大的人身、财产安全损失，产生...   \n",
       "date                                   2018-07-20 00:00:00   \n",
       "title                                     大华股份智慧安检综合解决方案来袭   \n",
       "url      https://www.dahuatech.com/news/info/663.html?p...   \n",
       "\n",
       "                                                         2  \\\n",
       "content  世界安防看中国，中国连动全世界。日前，第七次中国-中东欧国家合作“16+1”峰会在保加利亚首...   \n",
       "date                                   2018-07-20 00:00:00   \n",
       "title                          展民族品牌自信 大华股份闪耀亮相第七次“16+1”峰会   \n",
       "url      https://www.dahuatech.com/news/info/664.html?p...   \n",
       "\n",
       "                                                         3  \n",
       "content  近年来，每逢夏秋之际，农村大面积秸秆焚烧现象层出不穷，不仅造成了资源的浪费，更对环境带来了严...  \n",
       "date                                   2018-07-13 00:00:00  \n",
       "title                           巧借东风，保卫蓝天 | 大华股份铁塔秸秆禁烧解决方案  \n",
       "url      https://www.dahuatech.com/news/info/661.html?p...  "
      ]
     },
     "execution_count": 51,
     "metadata": {},
     "output_type": "execute_result"
    }
   ],
   "source": [
    "df1.head().T"
   ]
  },
  {
   "cell_type": "code",
   "execution_count": 54,
   "metadata": {},
   "outputs": [
    {
     "data": {
      "text/html": [
       "<div>\n",
       "<style scoped>\n",
       "    .dataframe tbody tr th:only-of-type {\n",
       "        vertical-align: middle;\n",
       "    }\n",
       "\n",
       "    .dataframe tbody tr th {\n",
       "        vertical-align: top;\n",
       "    }\n",
       "\n",
       "    .dataframe thead th {\n",
       "        text-align: right;\n",
       "    }\n",
       "</style>\n",
       "<table border=\"1\" class=\"dataframe\">\n",
       "  <thead>\n",
       "    <tr style=\"text-align: right;\">\n",
       "      <th></th>\n",
       "      <th>499</th>\n",
       "      <th>500</th>\n",
       "      <th>501</th>\n",
       "      <th>502</th>\n",
       "      <th>503</th>\n",
       "    </tr>\n",
       "  </thead>\n",
       "  <tbody>\n",
       "    <tr>\n",
       "      <th>content</th>\n",
       "      <td>2月25日下午，浙江省副省长毛光烈一行领导莅临大华股份视察指导工作。公司董事长兼总经理傅利泉...</td>\n",
       "      <td>近日，由华强旗下中国安防网主办的“安防企业‘网络知名度’百强品牌”评选结果在深圳隆重揭晓。历...</td>\n",
       "      <td>2014年3月3日，国际HDcctv联盟在澳大利亚悉尼审批通过了高清监控视频的新一代标准HD...</td>\n",
       "      <td>近日，2014中国武汉公共安全产品暨警用装备展览会在武汉国际博览中心举行。作为全球领先的监控...</td>\n",
       "      <td>近日，由《智能建筑》杂志社主办的2013中国智能建筑行业产品十大品牌评选结果揭晓，大华股份作...</td>\n",
       "    </tr>\n",
       "    <tr>\n",
       "      <th>date</th>\n",
       "      <td>2014-04-04 00:00:00</td>\n",
       "      <td>2014-03-27 00:00:00</td>\n",
       "      <td>2014-04-04 00:00:00</td>\n",
       "      <td>2014-04-04 00:00:00</td>\n",
       "      <td>2014-04-04 00:00:00</td>\n",
       "    </tr>\n",
       "    <tr>\n",
       "      <th>title</th>\n",
       "      <td>浙江省副省长毛光烈一行领导莅临大华股份视察指导工作</td>\n",
       "      <td>大华股份荣获“‘网络知名度’十强企业”</td>\n",
       "      <td>AT标准助推HDCVI技术全球化应用 ——基于大华HDCVI技术的HDcctv 2.0 AT...</td>\n",
       "      <td>大华股份携众新品及行业解决方案亮相武汉安博会</td>\n",
       "      <td>大华股份荣膺中国智能建筑行业视频监控系统十大品牌</td>\n",
       "    </tr>\n",
       "    <tr>\n",
       "      <th>url</th>\n",
       "      <td>https://www.dahuatech.com/news/info/46.html?pa...</td>\n",
       "      <td>https://www.dahuatech.com/news/info/45.html?pa...</td>\n",
       "      <td>https://www.dahuatech.com/news/info/47.html?pa...</td>\n",
       "      <td>https://www.dahuatech.com/news/info/51.html?pa...</td>\n",
       "      <td>https://www.dahuatech.com/news/info/52.html?pa...</td>\n",
       "    </tr>\n",
       "  </tbody>\n",
       "</table>\n",
       "</div>"
      ],
      "text/plain": [
       "                                                       499  \\\n",
       "content  2月25日下午，浙江省副省长毛光烈一行领导莅临大华股份视察指导工作。公司董事长兼总经理傅利泉...   \n",
       "date                                   2014-04-04 00:00:00   \n",
       "title                            浙江省副省长毛光烈一行领导莅临大华股份视察指导工作   \n",
       "url      https://www.dahuatech.com/news/info/46.html?pa...   \n",
       "\n",
       "                                                       500  \\\n",
       "content  近日，由华强旗下中国安防网主办的“安防企业‘网络知名度’百强品牌”评选结果在深圳隆重揭晓。历...   \n",
       "date                                   2014-03-27 00:00:00   \n",
       "title                                  大华股份荣获“‘网络知名度’十强企业”   \n",
       "url      https://www.dahuatech.com/news/info/45.html?pa...   \n",
       "\n",
       "                                                       501  \\\n",
       "content  2014年3月3日，国际HDcctv联盟在澳大利亚悉尼审批通过了高清监控视频的新一代标准HD...   \n",
       "date                                   2014-04-04 00:00:00   \n",
       "title    AT标准助推HDCVI技术全球化应用 ——基于大华HDCVI技术的HDcctv 2.0 AT...   \n",
       "url      https://www.dahuatech.com/news/info/47.html?pa...   \n",
       "\n",
       "                                                       502  \\\n",
       "content  近日，2014中国武汉公共安全产品暨警用装备展览会在武汉国际博览中心举行。作为全球领先的监控...   \n",
       "date                                   2014-04-04 00:00:00   \n",
       "title                               大华股份携众新品及行业解决方案亮相武汉安博会   \n",
       "url      https://www.dahuatech.com/news/info/51.html?pa...   \n",
       "\n",
       "                                                       503  \n",
       "content  近日，由《智能建筑》杂志社主办的2013中国智能建筑行业产品十大品牌评选结果揭晓，大华股份作...  \n",
       "date                                   2014-04-04 00:00:00  \n",
       "title                             大华股份荣膺中国智能建筑行业视频监控系统十大品牌  \n",
       "url      https://www.dahuatech.com/news/info/52.html?pa...  "
      ]
     },
     "execution_count": 54,
     "metadata": {},
     "output_type": "execute_result"
    }
   ],
   "source": [
    "df.tail().T"
   ]
  },
  {
   "cell_type": "markdown",
   "metadata": {},
   "source": [
    "# 新闻总数量"
   ]
  },
  {
   "cell_type": "code",
   "execution_count": 55,
   "metadata": {},
   "outputs": [
    {
     "data": {
      "text/plain": [
       "(504, 4)"
      ]
     },
     "execution_count": 55,
     "metadata": {},
     "output_type": "execute_result"
    }
   ],
   "source": [
    "df.shape"
   ]
  },
  {
   "cell_type": "code",
   "execution_count": 56,
   "metadata": {},
   "outputs": [],
   "source": [
    "from datetime import datetime"
   ]
  },
  {
   "cell_type": "code",
   "execution_count": 57,
   "metadata": {},
   "outputs": [],
   "source": [
    "t2014 = datetime(2014, 1, 1)\n",
    "t2015 = datetime(2015, 1, 1)\n",
    "t2016 = datetime(2016, 1, 1)\n",
    "t2017 = datetime(2017, 1, 1)\n",
    "t2018 = datetime(2018, 1, 1)\n",
    "t2019 = datetime(2019, 1, 1)"
   ]
  },
  {
   "cell_type": "markdown",
   "metadata": {},
   "source": [
    "# 2014年到2018年7月份每年的新闻数量"
   ]
  },
  {
   "cell_type": "code",
   "execution_count": 58,
   "metadata": {},
   "outputs": [],
   "source": [
    "t014 = df1[(df1.date > t2014) & (df1.date < t2015)][\"title\"].count()\n",
    "t015 = df1[(df1.date > t2015) & (df1.date < t2016)][\"title\"].count()\n",
    "t016 = df1[(df1.date > t2016) & (df1.date < t2017)][\"title\"].count()\n",
    "t017 = df1[(df1.date > t2017) & (df1.date < t2018)][\"title\"].count()\n",
    "t018 = df1[(df1.date > t2018) & (df1.date < t2019)][\"title\"].count()"
   ]
  },
  {
   "cell_type": "code",
   "execution_count": 59,
   "metadata": {},
   "outputs": [],
   "source": [
    "years = [t014, t015, t016, t017, t018]"
   ]
  },
  {
   "cell_type": "code",
   "execution_count": 60,
   "metadata": {},
   "outputs": [],
   "source": [
    "news_counts = years\n",
    "labels = range(2014, 2019)"
   ]
  },
  {
   "cell_type": "code",
   "execution_count": 61,
   "metadata": {},
   "outputs": [],
   "source": [
    "import matplotlib.pyplot as plt\n",
    "% matplotlib inline"
   ]
  },
  {
   "cell_type": "code",
   "execution_count": 73,
   "metadata": {},
   "outputs": [
    {
     "data": {
      "image/png": "[encoded data removed]",
      "text/plain": [
       "<Figure size 432x288 with 1 Axes>"
      ]
     },
     "metadata": {},
     "output_type": "display_data"
    }
   ],
   "source": [
    "plt.bar(labels, years, label='News')\n",
    "plt.plot(labels, years, color='r')\n",
    "plt.title(\"大华股份新闻数量\", fontproperties=font, fontsize=20)\n",
    "plt.xlabel(\"年份\", fontproperties=font)\n",
    "plt.ylabel(\"数量\", fontproperties=font)\n",
    "plt.legend()\n",
    "plt.show()"
   ]
  },
  {
   "cell_type": "code",
   "execution_count": 63,
   "metadata": {},
   "outputs": [
    {
     "data": {
      "image/png": "[encoded data removed]",
      "text/plain": [
       "<Figure size 432x288 with 1 Axes>"
      ]
     },
     "metadata": {},
     "output_type": "display_data"
    }
   ],
   "source": [
    "plt.scatter(labels, years, s=years, alpha=0.7, color=\"rgb\")\n",
    "plt.show()"
   ]
  },
  {
   "cell_type": "markdown",
   "metadata": {},
   "source": [
    "# 读取数据库文件"
   ]
  },
  {
   "cell_type": "code",
   "execution_count": 18,
   "metadata": {},
   "outputs": [],
   "source": [
    "import sqlite3\n",
    "import pandas as pd\n",
    "import matplotlib.pyplot as plt"
   ]
  },
  {
   "cell_type": "code",
   "execution_count": 19,
   "metadata": {},
   "outputs": [],
   "source": [
    "conn = sqlite3.connect('/sdcard/1/csv/dahua.db')"
   ]
  },
  {
   "cell_type": "code",
   "execution_count": 20,
   "metadata": {},
   "outputs": [],
   "source": [
    "data = conn.execute(\"select * from dahua\").fetchall()\n",
    "title = conn.execute(\"select title from dahua order by id;\").fetchall()\n",
    "date = conn.execute(\"select date from dahua order by id;\").fetchall()\n",
    "url = conn.execute(\"select url from dahua order by id;\").fetchall()\n",
    "content = conn.execute(\"select content from dahua order by id;\").fetchall()"
   ]
  },
  {
   "cell_type": "code",
   "execution_count": 24,
   "metadata": {},
   "outputs": [
    {
     "data": {
      "text/plain": [
       "str"
      ]
     },
     "execution_count": 24,
     "metadata": {},
     "output_type": "execute_result"
    }
   ],
   "source": [
    "type(date[0][0])"
   ]
  },
  {
   "cell_type": "code",
   "execution_count": null,
   "metadata": {},
   "outputs": [],
   "source": []
  }
 ],
 "metadata": {
  "kernelspec": {
   "display_name": "Python 3",
   "language": "python",
   "name": "python3"
  },
  "language_info": {
   "codemirror_mode": {
    "name": "ipython",
    "version": 3
   },
   "file_extension": ".py",
   "mimetype": "text/x-python",
   "name": "python",
   "nbconvert_exporter": "python",
   "pygments_lexer": "ipython3",
   "version": "3.6.4"
  }
 },
 "nbformat": 4,
 "nbformat_minor": 2
}
